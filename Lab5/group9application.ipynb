{
  "nbformat": 4,
  "nbformat_minor": 0,
  "metadata": {
    "colab": {
      "name": "group9application.ipynb",
      "provenance": []
    },
    "kernelspec": {
      "name": "python3",
      "display_name": "Python 3"
    },
    "language_info": {
      "name": "python"
    }
  },
  "cells": [
    {
      "cell_type": "code",
      "metadata": {
        "id": "mFgofsFoRw_6"
      },
      "source": [
        "http://jurodriguezf.pythonanywhere.com/"
      ],
      "execution_count": null,
      "outputs": []
    }
  ]
}