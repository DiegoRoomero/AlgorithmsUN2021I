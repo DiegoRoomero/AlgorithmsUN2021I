{
  "nbformat": 4,
  "nbformat_minor": 0,
  "metadata": {
    "colab": {
      "name": "dromeroitutorial5.ipynb",
      "provenance": [],
      "collapsed_sections": []
    },
    "kernelspec": {
      "name": "python3",
      "display_name": "Python 3"
    },
    "language_info": {
      "name": "python"
    }
  },
  "cells": [
    {
      "cell_type": "markdown",
      "metadata": {
        "id": "jXDstOb3MLe-"
      },
      "source": [
        "# Introduction to Financial Python"
      ]
    },
    {
      "cell_type": "markdown",
      "metadata": {
        "id": "Z61G8wSXMTJT"
      },
      "source": [
        "## Pandas-Resampling and DataFrame"
      ]
    },
    {
      "cell_type": "markdown",
      "metadata": {
        "id": "eRLG9_O-MaXS"
      },
      "source": [
        "### Introduction"
      ]
    },
    {
      "cell_type": "markdown",
      "metadata": {
        "id": "QglDu32WMdqR"
      },
      "source": [
        "In the last chapter we had a glimpse of Pandas. In this chapter we will learn about resampling methods and the DataFrame object, which is a powerful tool for financial data analysis."
      ]
    },
    {
      "cell_type": "markdown",
      "metadata": {
        "id": "sx8gep4MMihZ"
      },
      "source": [
        "## Fetching Data"
      ]
    },
    {
      "cell_type": "markdown",
      "metadata": {
        "id": "9Wk7MJmNMlNS"
      },
      "source": [
        "Here we use the Quandl API to retrieve data."
      ]
    },
    {
      "cell_type": "code",
      "metadata": {
        "id": "OeDs9W-jV0Fm",
        "colab": {
          "base_uri": "https://localhost:8080/"
        },
        "outputId": "ad369e5c-3703-47a2-bf32-84180df01acd"
      },
      "source": [
        "!pip install --upgrade quandl"
      ],
      "execution_count": 1,
      "outputs": [
        {
          "output_type": "stream",
          "text": [
            "Collecting quandl\n",
            "  Downloading https://files.pythonhosted.org/packages/8b/2b/feefb36015beaecc5c0f9f2533e815b409621d9fa7b50b2aac621796f828/Quandl-3.6.1-py2.py3-none-any.whl\n",
            "Requirement already satisfied, skipping upgrade: python-dateutil in /usr/local/lib/python3.7/dist-packages (from quandl) (2.8.1)\n",
            "Requirement already satisfied, skipping upgrade: numpy>=1.8 in /usr/local/lib/python3.7/dist-packages (from quandl) (1.19.5)\n",
            "Collecting inflection>=0.3.1\n",
            "  Downloading https://files.pythonhosted.org/packages/59/91/aa6bde563e0085a02a435aa99b49ef75b0a4b062635e606dab23ce18d720/inflection-0.5.1-py2.py3-none-any.whl\n",
            "Requirement already satisfied, skipping upgrade: requests>=2.7.0 in /usr/local/lib/python3.7/dist-packages (from quandl) (2.23.0)\n",
            "Requirement already satisfied, skipping upgrade: six in /usr/local/lib/python3.7/dist-packages (from quandl) (1.15.0)\n",
            "Requirement already satisfied, skipping upgrade: more-itertools in /usr/local/lib/python3.7/dist-packages (from quandl) (8.7.0)\n",
            "Requirement already satisfied, skipping upgrade: pandas>=0.14 in /usr/local/lib/python3.7/dist-packages (from quandl) (1.1.5)\n",
            "Requirement already satisfied, skipping upgrade: certifi>=2017.4.17 in /usr/local/lib/python3.7/dist-packages (from requests>=2.7.0->quandl) (2020.12.5)\n",
            "Requirement already satisfied, skipping upgrade: idna<3,>=2.5 in /usr/local/lib/python3.7/dist-packages (from requests>=2.7.0->quandl) (2.10)\n",
            "Requirement already satisfied, skipping upgrade: chardet<4,>=3.0.2 in /usr/local/lib/python3.7/dist-packages (from requests>=2.7.0->quandl) (3.0.4)\n",
            "Requirement already satisfied, skipping upgrade: urllib3!=1.25.0,!=1.25.1,<1.26,>=1.21.1 in /usr/local/lib/python3.7/dist-packages (from requests>=2.7.0->quandl) (1.24.3)\n",
            "Requirement already satisfied, skipping upgrade: pytz>=2017.2 in /usr/local/lib/python3.7/dist-packages (from pandas>=0.14->quandl) (2018.9)\n",
            "Installing collected packages: inflection, quandl\n",
            "Successfully installed inflection-0.5.1 quandl-3.6.1\n"
          ],
          "name": "stdout"
        }
      ]
    },
    {
      "cell_type": "code",
      "metadata": {
        "id": "kOCK6h2TUcwr"
      },
      "source": [
        "import quandl\n",
        "import pandas as pd\n",
        "import numpy as np\n",
        "quandl.ApiConfig.api_key = 'yFb8V2cidFjKrbnqdQRE'"
      ],
      "execution_count": 36,
      "outputs": []
    },
    {
      "cell_type": "markdown",
      "metadata": {
        "id": "TXCmBmr2U_DE"
      },
      "source": [
        "We will create a Series named \"aapl\" whose values are Apple's daily closing prices, which are of course indexed by dates:"
      ]
    },
    {
      "cell_type": "code",
      "metadata": {
        "colab": {
          "base_uri": "https://localhost:8080/"
        },
        "id": "bV7_nxIUVCa8",
        "outputId": "2c902a05-89af-4d2a-94e5-ec8e535abc16"
      },
      "source": [
        "aapl_table = quandl.get('WIKI/AAPL')\n",
        "aapl = aapl_table['Adj. Close']['2018']\n",
        "aapl"
      ],
      "execution_count": 6,
      "outputs": [
        {
          "output_type": "stream",
          "text": [
            "Date\n",
            "2018-01-02    172.260\n",
            "2018-01-03    172.230\n",
            "2018-01-04    173.030\n",
            "2018-01-05    175.000\n",
            "2018-01-08    174.350\n",
            "2018-01-09    174.330\n",
            "2018-01-10    174.290\n",
            "2018-01-11    175.280\n",
            "2018-01-12    177.090\n",
            "2018-01-16    176.190\n",
            "2018-01-17    179.100\n",
            "2018-01-18    179.260\n",
            "2018-01-19    178.460\n",
            "2018-01-22    177.000\n",
            "2018-01-23    177.040\n",
            "2018-01-24    174.220\n",
            "2018-01-25    171.110\n",
            "2018-01-26    171.510\n",
            "2018-01-29    167.960\n",
            "2018-01-30    166.970\n",
            "2018-01-31    167.430\n",
            "2018-02-01    167.780\n",
            "2018-02-02    160.370\n",
            "2018-02-05    157.490\n",
            "2018-02-06    163.030\n",
            "2018-02-07    159.540\n",
            "2018-02-08    155.320\n",
            "2018-02-09    155.970\n",
            "2018-02-12    162.710\n",
            "2018-02-13    164.340\n",
            "2018-02-14    167.370\n",
            "2018-02-15    172.990\n",
            "2018-02-16    172.430\n",
            "2018-02-20    171.850\n",
            "2018-02-21    171.070\n",
            "2018-02-22    172.600\n",
            "2018-02-23    175.555\n",
            "2018-02-26    178.970\n",
            "2018-02-27    178.390\n",
            "2018-02-28    178.120\n",
            "2018-03-01    175.000\n",
            "2018-03-02    176.210\n",
            "2018-03-05    176.820\n",
            "2018-03-06    176.670\n",
            "2018-03-07    175.030\n",
            "2018-03-08    176.940\n",
            "2018-03-09    179.980\n",
            "2018-03-12    181.720\n",
            "2018-03-13    179.970\n",
            "2018-03-14    178.440\n",
            "2018-03-15    178.650\n",
            "2018-03-16    178.020\n",
            "2018-03-19    175.300\n",
            "2018-03-20    175.240\n",
            "2018-03-21    171.270\n",
            "2018-03-22    168.845\n",
            "2018-03-23    164.940\n",
            "2018-03-26    172.770\n",
            "2018-03-27    168.340\n",
            "Name: Adj. Close, dtype: float64\n"
          ],
          "name": "stdout"
        }
      ]
    },
    {
      "cell_type": "markdown",
      "metadata": {
        "id": "uoIJGNhyYl7A"
      },
      "source": [
        "Recall that we can fetch a specific data point using series['yyyy-mm-dd']. We can also fetch the data in a specific month using series['yyyy-mm']."
      ]
    },
    {
      "cell_type": "code",
      "metadata": {
        "colab": {
          "base_uri": "https://localhost:8080/"
        },
        "id": "4-20eJJnYs7P",
        "outputId": "0d7fa305-5847-4f8c-9a6e-887e072b5594"
      },
      "source": [
        "aapl['2018-3']"
      ],
      "execution_count": 10,
      "outputs": [
        {
          "output_type": "execute_result",
          "data": {
            "text/plain": [
              "Date\n",
              "2018-03-01    175.000\n",
              "2018-03-02    176.210\n",
              "2018-03-05    176.820\n",
              "2018-03-06    176.670\n",
              "2018-03-07    175.030\n",
              "2018-03-08    176.940\n",
              "2018-03-09    179.980\n",
              "2018-03-12    181.720\n",
              "2018-03-13    179.970\n",
              "2018-03-14    178.440\n",
              "2018-03-15    178.650\n",
              "2018-03-16    178.020\n",
              "2018-03-19    175.300\n",
              "2018-03-20    175.240\n",
              "2018-03-21    171.270\n",
              "2018-03-22    168.845\n",
              "2018-03-23    164.940\n",
              "2018-03-26    172.770\n",
              "2018-03-27    168.340\n",
              "Name: Adj. Close, dtype: float64"
            ]
          },
          "metadata": {
            "tags": []
          },
          "execution_count": 10
        }
      ]
    },
    {
      "cell_type": "markdown",
      "metadata": {
        "id": "J0K94YVdYvx-"
      },
      "source": [
        "Or in several consecutive months:"
      ]
    },
    {
      "cell_type": "code",
      "metadata": {
        "colab": {
          "base_uri": "https://localhost:8080/"
        },
        "id": "gowmjuUbYw7u",
        "outputId": "691af076-9ed3-484a-e1d6-db91d3775a5c"
      },
      "source": [
        "aapl['2018-1':'2018-4']"
      ],
      "execution_count": 12,
      "outputs": [
        {
          "output_type": "execute_result",
          "data": {
            "text/plain": [
              "Date\n",
              "2018-01-02    172.260\n",
              "2018-01-03    172.230\n",
              "2018-01-04    173.030\n",
              "2018-01-05    175.000\n",
              "2018-01-08    174.350\n",
              "2018-01-09    174.330\n",
              "2018-01-10    174.290\n",
              "2018-01-11    175.280\n",
              "2018-01-12    177.090\n",
              "2018-01-16    176.190\n",
              "2018-01-17    179.100\n",
              "2018-01-18    179.260\n",
              "2018-01-19    178.460\n",
              "2018-01-22    177.000\n",
              "2018-01-23    177.040\n",
              "2018-01-24    174.220\n",
              "2018-01-25    171.110\n",
              "2018-01-26    171.510\n",
              "2018-01-29    167.960\n",
              "2018-01-30    166.970\n",
              "2018-01-31    167.430\n",
              "2018-02-01    167.780\n",
              "2018-02-02    160.370\n",
              "2018-02-05    157.490\n",
              "2018-02-06    163.030\n",
              "2018-02-07    159.540\n",
              "2018-02-08    155.320\n",
              "2018-02-09    155.970\n",
              "2018-02-12    162.710\n",
              "2018-02-13    164.340\n",
              "2018-02-14    167.370\n",
              "2018-02-15    172.990\n",
              "2018-02-16    172.430\n",
              "2018-02-20    171.850\n",
              "2018-02-21    171.070\n",
              "2018-02-22    172.600\n",
              "2018-02-23    175.555\n",
              "2018-02-26    178.970\n",
              "2018-02-27    178.390\n",
              "2018-02-28    178.120\n",
              "2018-03-01    175.000\n",
              "2018-03-02    176.210\n",
              "2018-03-05    176.820\n",
              "2018-03-06    176.670\n",
              "2018-03-07    175.030\n",
              "2018-03-08    176.940\n",
              "2018-03-09    179.980\n",
              "2018-03-12    181.720\n",
              "2018-03-13    179.970\n",
              "2018-03-14    178.440\n",
              "2018-03-15    178.650\n",
              "2018-03-16    178.020\n",
              "2018-03-19    175.300\n",
              "2018-03-20    175.240\n",
              "2018-03-21    171.270\n",
              "2018-03-22    168.845\n",
              "2018-03-23    164.940\n",
              "2018-03-26    172.770\n",
              "2018-03-27    168.340\n",
              "Name: Adj. Close, dtype: float64"
            ]
          },
          "metadata": {
            "tags": []
          },
          "execution_count": 12
        }
      ]
    },
    {
      "cell_type": "markdown",
      "metadata": {
        "id": "CWl7Q7kuY26n"
      },
      "source": [
        "`.head(N)` and `.tail(N)` are methods for quickly accessing the first or last N elements."
      ]
    },
    {
      "cell_type": "code",
      "metadata": {
        "colab": {
          "base_uri": "https://localhost:8080/"
        },
        "id": "jrwN_XIDY6WS",
        "outputId": "f0ce6817-d046-4ade-f02d-b90d49c1974e"
      },
      "source": [
        "print(aapl.head())\n",
        "aapl.tail(10)"
      ],
      "execution_count": 14,
      "outputs": [
        {
          "output_type": "stream",
          "text": [
            "Date\n",
            "2018-01-02    172.26\n",
            "2018-01-03    172.23\n",
            "2018-01-04    173.03\n",
            "2018-01-05    175.00\n",
            "2018-01-08    174.35\n",
            "Name: Adj. Close, dtype: float64\n"
          ],
          "name": "stdout"
        },
        {
          "output_type": "execute_result",
          "data": {
            "text/plain": [
              "Date\n",
              "2018-03-14    178.440\n",
              "2018-03-15    178.650\n",
              "2018-03-16    178.020\n",
              "2018-03-19    175.300\n",
              "2018-03-20    175.240\n",
              "2018-03-21    171.270\n",
              "2018-03-22    168.845\n",
              "2018-03-23    164.940\n",
              "2018-03-26    172.770\n",
              "2018-03-27    168.340\n",
              "Name: Adj. Close, dtype: float64"
            ]
          },
          "metadata": {
            "tags": []
          },
          "execution_count": 14
        }
      ]
    },
    {
      "cell_type": "markdown",
      "metadata": {
        "id": "936qAwg_Y_Nv"
      },
      "source": [
        "## Resampling"
      ]
    },
    {
      "cell_type": "markdown",
      "metadata": {
        "id": "KbdbK0yHZBRm"
      },
      "source": [
        "`series.resample(freq)` is a class called \"DatetimeIndexResampler\" which groups data in a Series object into regular time intervals. The argument \"freq\" determines the length of each interval.\n",
        "\n",
        "`series.resample.mean()` is a complete statement that groups data into intervals, and then compute the mean of each interval. For example, if we want to aggregate the daily data into monthly data by mean:"
      ]
    },
    {
      "cell_type": "code",
      "metadata": {
        "colab": {
          "base_uri": "https://localhost:8080/"
        },
        "id": "2WruOFj9ZFO_",
        "outputId": "0626d4b1-cd6b-44be-95a5-48cf117ae961"
      },
      "source": [
        "by_month = aapl.resample('M').mean()\n",
        "by_month"
      ],
      "execution_count": 15,
      "outputs": [
        {
          "output_type": "execute_result",
          "data": {
            "text/plain": [
              "Date\n",
              "2018-01-31    174.005238\n",
              "2018-02-28    167.678684\n",
              "2018-03-31    175.271316\n",
              "Freq: M, Name: Adj. Close, dtype: float64"
            ]
          },
          "metadata": {
            "tags": []
          },
          "execution_count": 15
        }
      ]
    },
    {
      "cell_type": "markdown",
      "metadata": {
        "id": "TEhkRCDDZH2v"
      },
      "source": [
        "We can also aggregate the data by week:"
      ]
    },
    {
      "cell_type": "code",
      "metadata": {
        "colab": {
          "base_uri": "https://localhost:8080/"
        },
        "id": "gVt1cQmdZIbP",
        "outputId": "0ad14d4d-3b9b-4249-8daa-44df16018b18"
      },
      "source": [
        "by_week = aapl.resample('W').mean()\n",
        "by_week.head()"
      ],
      "execution_count": 16,
      "outputs": [
        {
          "output_type": "execute_result",
          "data": {
            "text/plain": [
              "Date\n",
              "2018-01-07    173.1300\n",
              "2018-01-14    175.0680\n",
              "2018-01-21    178.2525\n",
              "2018-01-28    174.1760\n",
              "2018-02-04    166.1020\n",
              "Freq: W-SUN, Name: Adj. Close, dtype: float64"
            ]
          },
          "metadata": {
            "tags": []
          },
          "execution_count": 16
        }
      ]
    },
    {
      "cell_type": "markdown",
      "metadata": {
        "id": "OnKCTPISZLOm"
      },
      "source": [
        "We can choose almost any frequency by using the format 'nf', where 'n' is an integer and 'f' is M for month, W for week and D for day."
      ]
    },
    {
      "cell_type": "code",
      "metadata": {
        "id": "8jSYO4BRZPSH"
      },
      "source": [
        "three_day = aapl.resample('3D').mean()\n",
        "two_week  = aapl.resample('2W').mean()\n",
        "two_month = aapl.resample('2M').mean()"
      ],
      "execution_count": 52,
      "outputs": []
    },
    {
      "cell_type": "markdown",
      "metadata": {
        "id": "iWbwv7arZR_P"
      },
      "source": [
        "Besides the `mean()` method, other methods can also be used with the resampler:"
      ]
    },
    {
      "cell_type": "code",
      "metadata": {
        "id": "_i1-sSZ5ZVNH"
      },
      "source": [
        "std = aapl.resample('W').std()    # standard deviation\n",
        "\n",
        "max = aapl.resample('W').max()    # maximum value\n",
        "\n",
        "min = aapl.resample('W').min()    # minimum value"
      ],
      "execution_count": 51,
      "outputs": []
    },
    {
      "cell_type": "markdown",
      "metadata": {
        "id": "1CuWnB2GZXef"
      },
      "source": [
        "Often we want to calculate monthly returns of a stock, based on prices on the last day of each month. To fetch those prices, we use the `series.resample.agg()` method:"
      ]
    },
    {
      "cell_type": "code",
      "metadata": {
        "colab": {
          "base_uri": "https://localhost:8080/"
        },
        "id": "57cn0zweZazv",
        "outputId": "6a631ef5-efc2-459e-951b-ed56582411df"
      },
      "source": [
        "last_day = aapl.resample('M').agg(lambda x: x[-1])\n",
        "last_day"
      ],
      "execution_count": 19,
      "outputs": [
        {
          "output_type": "execute_result",
          "data": {
            "text/plain": [
              "Date\n",
              "2018-01-31    167.43\n",
              "2018-02-28    178.12\n",
              "2018-03-31    168.34\n",
              "Freq: M, Name: Adj. Close, dtype: float64"
            ]
          },
          "metadata": {
            "tags": []
          },
          "execution_count": 19
        }
      ]
    },
    {
      "cell_type": "markdown",
      "metadata": {
        "id": "rqjunrxgZdfn"
      },
      "source": [
        "Or directly calculate the monthly rates of return using the data for the first day and the last day:"
      ]
    },
    {
      "cell_type": "code",
      "metadata": {
        "colab": {
          "base_uri": "https://localhost:8080/"
        },
        "id": "zFlTyL6-ZeVR",
        "outputId": "f2bc7f4c-bc7c-4cd2-cad9-9bb6d1730080"
      },
      "source": [
        "monthly_return = aapl.resample('M').agg(lambda x: x[-1]/x[1] - 1)\n",
        "monthly_return"
      ],
      "execution_count": 20,
      "outputs": [
        {
          "output_type": "execute_result",
          "data": {
            "text/plain": [
              "Date\n",
              "2018-01-31   -0.027870\n",
              "2018-02-28    0.110682\n",
              "2018-03-31   -0.044663\n",
              "Freq: M, Name: Adj. Close, dtype: float64"
            ]
          },
          "metadata": {
            "tags": []
          },
          "execution_count": 20
        }
      ]
    },
    {
      "cell_type": "markdown",
      "metadata": {
        "id": "Rq6bZop3Ziiv"
      },
      "source": [
        "Series object also provides us some convenient methods to do some quick calculation."
      ]
    },
    {
      "cell_type": "code",
      "metadata": {
        "colab": {
          "base_uri": "https://localhost:8080/"
        },
        "id": "j0NifY71ZlBP",
        "outputId": "558914ab-e3cb-48e2-ee59-8d00598a3ed5"
      },
      "source": [
        "print(monthly_return.mean())\n",
        "print(monthly_return.std())\n",
        "monthly_return.max()"
      ],
      "execution_count": 22,
      "outputs": [
        {
          "output_type": "stream",
          "text": [
            "0.01271640711387112\n",
            "0.0852547782104408\n"
          ],
          "name": "stdout"
        },
        {
          "output_type": "execute_result",
          "data": {
            "text/plain": [
              "0.11068154891812676"
            ]
          },
          "metadata": {
            "tags": []
          },
          "execution_count": 22
        }
      ]
    },
    {
      "cell_type": "markdown",
      "metadata": {
        "id": "vPQzp6JvZqB_"
      },
      "source": [
        "Another two methods frequently used on Series are `.diff()` and `.pct_change()`. The former calculates the difference between consecutive elements, and the latter calculates the percentage change."
      ]
    },
    {
      "cell_type": "code",
      "metadata": {
        "colab": {
          "base_uri": "https://localhost:8080/"
        },
        "id": "Ys1xod3xZtOy",
        "outputId": "1c9d2f41-784f-4e15-ca2c-eaf4f62223b3"
      },
      "source": [
        "print(last_day.diff())\n",
        "\n",
        "print(last_day.pct_change())"
      ],
      "execution_count": 23,
      "outputs": [
        {
          "output_type": "stream",
          "text": [
            "Date\n",
            "2018-01-31      NaN\n",
            "2018-02-28    10.69\n",
            "2018-03-31    -9.78\n",
            "Freq: M, Name: Adj. Close, dtype: float64\n",
            "Date\n",
            "2018-01-31         NaN\n",
            "2018-02-28    0.063848\n",
            "2018-03-31   -0.054907\n",
            "Freq: M, Name: Adj. Close, dtype: float64\n"
          ],
          "name": "stdout"
        }
      ]
    },
    {
      "cell_type": "markdown",
      "metadata": {
        "id": "wvPodnSdZym3"
      },
      "source": [
        "Notice that we induced a NaN value while calculating percentage changes i.e. returns.\n",
        "\n",
        "When dealing with NaN values, we usually either removing the data point or fill it with a specific value. Here we fill it with 0:"
      ]
    },
    {
      "cell_type": "code",
      "metadata": {
        "colab": {
          "base_uri": "https://localhost:8080/"
        },
        "id": "Wj_x9B9UZ1MI",
        "outputId": "c4d41b1e-83a9-45c7-bc47-bca9651252c7"
      },
      "source": [
        "daily_return = last_day.pct_change()\n",
        "daily_return.fillna(0)"
      ],
      "execution_count": 25,
      "outputs": [
        {
          "output_type": "execute_result",
          "data": {
            "text/plain": [
              "Date\n",
              "2018-01-31    0.000000\n",
              "2018-02-28    0.063848\n",
              "2018-03-31   -0.054907\n",
              "Freq: M, Name: Adj. Close, dtype: float64"
            ]
          },
          "metadata": {
            "tags": []
          },
          "execution_count": 25
        }
      ]
    },
    {
      "cell_type": "markdown",
      "metadata": {
        "id": "iMCrq5KlZ58_"
      },
      "source": [
        "Alternatively, we can fill a NaN with the next fitted value. This is called 'backward fill', or 'bfill' in short:"
      ]
    },
    {
      "cell_type": "code",
      "metadata": {
        "colab": {
          "base_uri": "https://localhost:8080/"
        },
        "id": "n7DiXDmXZ7zA",
        "outputId": "67e013dd-1789-420e-bc22-4dcdb7c37839"
      },
      "source": [
        "daily_return = last_day.pct_change()\n",
        "daily_return.fillna(method = 'bfill')"
      ],
      "execution_count": 26,
      "outputs": [
        {
          "output_type": "execute_result",
          "data": {
            "text/plain": [
              "Date\n",
              "2018-01-31    0.063848\n",
              "2018-02-28    0.063848\n",
              "2018-03-31   -0.054907\n",
              "Freq: M, Name: Adj. Close, dtype: float64"
            ]
          },
          "metadata": {
            "tags": []
          },
          "execution_count": 26
        }
      ]
    },
    {
      "cell_type": "markdown",
      "metadata": {
        "id": "_zbr_WqsZ_T3"
      },
      "source": [
        "As expected, since there is a 'backward fill' method, there must be a 'forward fill' method, or 'ffill' in short. However we can't use it here because the NaN is the first value.\n",
        "\n",
        "We can also simply remove NaN values by `.dropna()`"
      ]
    },
    {
      "cell_type": "code",
      "metadata": {
        "colab": {
          "base_uri": "https://localhost:8080/"
        },
        "id": "lqXvjA01Z_Ar",
        "outputId": "ea113d15-ee95-484d-961d-d6e300cff20d"
      },
      "source": [
        "daily_return = last_day.pct_change().dropna()\n",
        "daily_return"
      ],
      "execution_count": 27,
      "outputs": [
        {
          "output_type": "execute_result",
          "data": {
            "text/plain": [
              "Date\n",
              "2018-02-28    0.063848\n",
              "2018-03-31   -0.054907\n",
              "Freq: M, Name: Adj. Close, dtype: float64"
            ]
          },
          "metadata": {
            "tags": []
          },
          "execution_count": 27
        }
      ]
    },
    {
      "cell_type": "markdown",
      "metadata": {
        "id": "RnjknGOqaFtz"
      },
      "source": [
        "## DataFrame"
      ]
    },
    {
      "cell_type": "markdown",
      "metadata": {
        "id": "8gz2XgdcaH-E"
      },
      "source": [
        "The **DataFrame** is the most commonly used data structure in Pandas. It is essentially a table, just like an Excel spreadsheet.\n",
        "\n",
        "More precisely, a DataFrame is a collection of Series objects, each of which may contain different data types. A DataFrame can be created from various data types: dictionary, 2-D numpy.ndarray, a Series or another DataFrame."
      ]
    },
    {
      "cell_type": "markdown",
      "metadata": {
        "id": "nQbXofZTaKig"
      },
      "source": [
        "### Create DataFrames"
      ]
    },
    {
      "cell_type": "markdown",
      "metadata": {
        "id": "vT7G6MlKaMXY"
      },
      "source": [
        "The most common method of creating a DataFrame is passing a dictionary:"
      ]
    },
    {
      "cell_type": "code",
      "metadata": {
        "colab": {
          "base_uri": "https://localhost:8080/",
          "height": 204
        },
        "id": "elhKlx_8aOVY",
        "outputId": "7624d7de-2c35-4e6b-ce42-f44c5177c1d4"
      },
      "source": [
        "dict = {'AAPL': [143.5,  144.09, 142.73, 144.18, 143.77],\n",
        "        'GOOG': [898.7,  911.71, 906.69, 918.59, 926.99],\n",
        "        'IBM':  [155.58, 153.67, 152.36, 152.94, 153.49]}\n",
        "dates = pd.date_range('2017-07-03', periods = 5, freq = 'D')\n",
        "df = pd.DataFrame(dict, index = dates)\n",
        "df"
      ],
      "execution_count": 30,
      "outputs": [
        {
          "output_type": "execute_result",
          "data": {
            "text/html": [
              "<div>\n",
              "<style scoped>\n",
              "    .dataframe tbody tr th:only-of-type {\n",
              "        vertical-align: middle;\n",
              "    }\n",
              "\n",
              "    .dataframe tbody tr th {\n",
              "        vertical-align: top;\n",
              "    }\n",
              "\n",
              "    .dataframe thead th {\n",
              "        text-align: right;\n",
              "    }\n",
              "</style>\n",
              "<table border=\"1\" class=\"dataframe\">\n",
              "  <thead>\n",
              "    <tr style=\"text-align: right;\">\n",
              "      <th></th>\n",
              "      <th>AAPL</th>\n",
              "      <th>GOOG</th>\n",
              "      <th>IBM</th>\n",
              "    </tr>\n",
              "  </thead>\n",
              "  <tbody>\n",
              "    <tr>\n",
              "      <th>2017-07-03</th>\n",
              "      <td>143.50</td>\n",
              "      <td>898.70</td>\n",
              "      <td>155.58</td>\n",
              "    </tr>\n",
              "    <tr>\n",
              "      <th>2017-07-04</th>\n",
              "      <td>144.09</td>\n",
              "      <td>911.71</td>\n",
              "      <td>153.67</td>\n",
              "    </tr>\n",
              "    <tr>\n",
              "      <th>2017-07-05</th>\n",
              "      <td>142.73</td>\n",
              "      <td>906.69</td>\n",
              "      <td>152.36</td>\n",
              "    </tr>\n",
              "    <tr>\n",
              "      <th>2017-07-06</th>\n",
              "      <td>144.18</td>\n",
              "      <td>918.59</td>\n",
              "      <td>152.94</td>\n",
              "    </tr>\n",
              "    <tr>\n",
              "      <th>2017-07-07</th>\n",
              "      <td>143.77</td>\n",
              "      <td>926.99</td>\n",
              "      <td>153.49</td>\n",
              "    </tr>\n",
              "  </tbody>\n",
              "</table>\n",
              "</div>"
            ],
            "text/plain": [
              "              AAPL    GOOG     IBM\n",
              "2017-07-03  143.50  898.70  155.58\n",
              "2017-07-04  144.09  911.71  153.67\n",
              "2017-07-05  142.73  906.69  152.36\n",
              "2017-07-06  144.18  918.59  152.94\n",
              "2017-07-07  143.77  926.99  153.49"
            ]
          },
          "metadata": {
            "tags": []
          },
          "execution_count": 30
        }
      ]
    },
    {
      "cell_type": "markdown",
      "metadata": {
        "id": "hb6gWeb4aWi4"
      },
      "source": [
        "### Manipulating DataFrames"
      ]
    },
    {
      "cell_type": "markdown",
      "metadata": {
        "id": "2waX2j6iaZKo"
      },
      "source": [
        "We can fetch values in a DataFrame by columns and index. Each column in a DataFrame is essentially a Pandas Series. We can fetch a column by square brackets: `df['column_name']`\n",
        "\n",
        "If a column name contains no spaces, then we can also use `df.column_name` to fetch a column:"
      ]
    },
    {
      "cell_type": "code",
      "metadata": {
        "colab": {
          "base_uri": "https://localhost:8080/"
        },
        "id": "JPWBELzAafv4",
        "outputId": "27f28513-dc65-436b-cdbc-d8929b8ebde9"
      },
      "source": [
        "df = aapl_table\n",
        "print(df.Close.tail(5))\n",
        "df['Adj. Volume'].tail(5)"
      ],
      "execution_count": 32,
      "outputs": [
        {
          "output_type": "stream",
          "text": [
            "Date\n",
            "2018-03-21    171.270\n",
            "2018-03-22    168.845\n",
            "2018-03-23    164.940\n",
            "2018-03-26    172.770\n",
            "2018-03-27    168.340\n",
            "Name: Close, dtype: float64\n"
          ],
          "name": "stdout"
        },
        {
          "output_type": "execute_result",
          "data": {
            "text/plain": [
              "Date\n",
              "2018-03-21    35247358.0\n",
              "2018-03-22    41051076.0\n",
              "2018-03-23    40248954.0\n",
              "2018-03-26    36272617.0\n",
              "2018-03-27    38962839.0\n",
              "Name: Adj. Volume, dtype: float64"
            ]
          },
          "metadata": {
            "tags": []
          },
          "execution_count": 32
        }
      ]
    },
    {
      "cell_type": "markdown",
      "metadata": {
        "id": "amSQQEPnakUX"
      },
      "source": [
        "All the methods we applied to a Series index such as `iloc[]`, `loc[]` and resampling methods, can also be applied to a DataFrame:"
      ]
    },
    {
      "cell_type": "code",
      "metadata": {
        "colab": {
          "base_uri": "https://localhost:8080/",
          "height": 452
        },
        "id": "qPocnnOaajpw",
        "outputId": "caf50648-6e4f-4568-9919-550befc42470"
      },
      "source": [
        "aapl_2016 = df['2016']\n",
        "aapl_month = aapl_2016.resample('M').agg(lambda x: x[-1])\n",
        "aapl_month"
      ],
      "execution_count": 33,
      "outputs": [
        {
          "output_type": "execute_result",
          "data": {
            "text/html": [
              "<div>\n",
              "<style scoped>\n",
              "    .dataframe tbody tr th:only-of-type {\n",
              "        vertical-align: middle;\n",
              "    }\n",
              "\n",
              "    .dataframe tbody tr th {\n",
              "        vertical-align: top;\n",
              "    }\n",
              "\n",
              "    .dataframe thead th {\n",
              "        text-align: right;\n",
              "    }\n",
              "</style>\n",
              "<table border=\"1\" class=\"dataframe\">\n",
              "  <thead>\n",
              "    <tr style=\"text-align: right;\">\n",
              "      <th></th>\n",
              "      <th>Open</th>\n",
              "      <th>High</th>\n",
              "      <th>Low</th>\n",
              "      <th>Close</th>\n",
              "      <th>Volume</th>\n",
              "      <th>Ex-Dividend</th>\n",
              "      <th>Split Ratio</th>\n",
              "      <th>Adj. Open</th>\n",
              "      <th>Adj. High</th>\n",
              "      <th>Adj. Low</th>\n",
              "      <th>Adj. Close</th>\n",
              "      <th>Adj. Volume</th>\n",
              "    </tr>\n",
              "    <tr>\n",
              "      <th>Date</th>\n",
              "      <th></th>\n",
              "      <th></th>\n",
              "      <th></th>\n",
              "      <th></th>\n",
              "      <th></th>\n",
              "      <th></th>\n",
              "      <th></th>\n",
              "      <th></th>\n",
              "      <th></th>\n",
              "      <th></th>\n",
              "      <th></th>\n",
              "      <th></th>\n",
              "    </tr>\n",
              "  </thead>\n",
              "  <tbody>\n",
              "    <tr>\n",
              "      <th>2016-01-31</th>\n",
              "      <td>94.79</td>\n",
              "      <td>97.3400</td>\n",
              "      <td>94.35</td>\n",
              "      <td>97.34</td>\n",
              "      <td>64416504.0</td>\n",
              "      <td>0.0</td>\n",
              "      <td>1.0</td>\n",
              "      <td>91.581233</td>\n",
              "      <td>94.044912</td>\n",
              "      <td>91.156128</td>\n",
              "      <td>94.044912</td>\n",
              "      <td>64416504.0</td>\n",
              "    </tr>\n",
              "    <tr>\n",
              "      <th>2016-02-29</th>\n",
              "      <td>96.86</td>\n",
              "      <td>98.2300</td>\n",
              "      <td>96.65</td>\n",
              "      <td>96.69</td>\n",
              "      <td>35216277.0</td>\n",
              "      <td>0.0</td>\n",
              "      <td>1.0</td>\n",
              "      <td>94.084911</td>\n",
              "      <td>95.415659</td>\n",
              "      <td>93.880927</td>\n",
              "      <td>93.919781</td>\n",
              "      <td>35216277.0</td>\n",
              "    </tr>\n",
              "    <tr>\n",
              "      <th>2016-03-31</th>\n",
              "      <td>109.72</td>\n",
              "      <td>109.9000</td>\n",
              "      <td>108.88</td>\n",
              "      <td>108.99</td>\n",
              "      <td>25888449.0</td>\n",
              "      <td>0.0</td>\n",
              "      <td>1.0</td>\n",
              "      <td>106.576465</td>\n",
              "      <td>106.751308</td>\n",
              "      <td>105.760531</td>\n",
              "      <td>105.867380</td>\n",
              "      <td>25888449.0</td>\n",
              "    </tr>\n",
              "    <tr>\n",
              "      <th>2016-04-30</th>\n",
              "      <td>93.99</td>\n",
              "      <td>94.7200</td>\n",
              "      <td>92.51</td>\n",
              "      <td>93.74</td>\n",
              "      <td>68531478.0</td>\n",
              "      <td>0.0</td>\n",
              "      <td>1.0</td>\n",
              "      <td>91.297138</td>\n",
              "      <td>92.006223</td>\n",
              "      <td>89.859540</td>\n",
              "      <td>91.054300</td>\n",
              "      <td>68531478.0</td>\n",
              "    </tr>\n",
              "    <tr>\n",
              "      <th>2016-05-31</th>\n",
              "      <td>99.60</td>\n",
              "      <td>100.4000</td>\n",
              "      <td>98.82</td>\n",
              "      <td>99.86</td>\n",
              "      <td>42307212.0</td>\n",
              "      <td>0.0</td>\n",
              "      <td>1.0</td>\n",
              "      <td>97.337844</td>\n",
              "      <td>98.119674</td>\n",
              "      <td>96.575559</td>\n",
              "      <td>97.591939</td>\n",
              "      <td>42307212.0</td>\n",
              "    </tr>\n",
              "    <tr>\n",
              "      <th>2016-06-30</th>\n",
              "      <td>94.44</td>\n",
              "      <td>95.7700</td>\n",
              "      <td>94.30</td>\n",
              "      <td>95.60</td>\n",
              "      <td>35836356.0</td>\n",
              "      <td>0.0</td>\n",
              "      <td>1.0</td>\n",
              "      <td>92.295040</td>\n",
              "      <td>93.594832</td>\n",
              "      <td>92.158220</td>\n",
              "      <td>93.428693</td>\n",
              "      <td>35836356.0</td>\n",
              "    </tr>\n",
              "    <tr>\n",
              "      <th>2016-07-31</th>\n",
              "      <td>104.19</td>\n",
              "      <td>104.5500</td>\n",
              "      <td>103.68</td>\n",
              "      <td>104.21</td>\n",
              "      <td>27733688.0</td>\n",
              "      <td>0.0</td>\n",
              "      <td>1.0</td>\n",
              "      <td>101.823594</td>\n",
              "      <td>102.175417</td>\n",
              "      <td>101.325177</td>\n",
              "      <td>101.843140</td>\n",
              "      <td>27733688.0</td>\n",
              "    </tr>\n",
              "    <tr>\n",
              "      <th>2016-08-31</th>\n",
              "      <td>105.66</td>\n",
              "      <td>106.5699</td>\n",
              "      <td>105.64</td>\n",
              "      <td>106.10</td>\n",
              "      <td>29662406.0</td>\n",
              "      <td>0.0</td>\n",
              "      <td>1.0</td>\n",
              "      <td>103.816156</td>\n",
              "      <td>104.710177</td>\n",
              "      <td>103.796505</td>\n",
              "      <td>104.248477</td>\n",
              "      <td>29662406.0</td>\n",
              "    </tr>\n",
              "    <tr>\n",
              "      <th>2016-09-30</th>\n",
              "      <td>112.46</td>\n",
              "      <td>113.3700</td>\n",
              "      <td>111.80</td>\n",
              "      <td>113.05</td>\n",
              "      <td>36379106.0</td>\n",
              "      <td>0.0</td>\n",
              "      <td>1.0</td>\n",
              "      <td>110.497491</td>\n",
              "      <td>111.391610</td>\n",
              "      <td>109.849008</td>\n",
              "      <td>111.077195</td>\n",
              "      <td>36379106.0</td>\n",
              "    </tr>\n",
              "    <tr>\n",
              "      <th>2016-10-31</th>\n",
              "      <td>113.65</td>\n",
              "      <td>114.2300</td>\n",
              "      <td>113.20</td>\n",
              "      <td>113.54</td>\n",
              "      <td>26419398.0</td>\n",
              "      <td>0.0</td>\n",
              "      <td>1.0</td>\n",
              "      <td>111.666724</td>\n",
              "      <td>112.236603</td>\n",
              "      <td>111.224577</td>\n",
              "      <td>111.558644</td>\n",
              "      <td>26419398.0</td>\n",
              "    </tr>\n",
              "    <tr>\n",
              "      <th>2016-11-30</th>\n",
              "      <td>111.56</td>\n",
              "      <td>112.2000</td>\n",
              "      <td>110.27</td>\n",
              "      <td>110.52</td>\n",
              "      <td>36162258.0</td>\n",
              "      <td>0.0</td>\n",
              "      <td>1.0</td>\n",
              "      <td>110.182071</td>\n",
              "      <td>110.814166</td>\n",
              "      <td>108.908004</td>\n",
              "      <td>109.154917</td>\n",
              "      <td>36162258.0</td>\n",
              "    </tr>\n",
              "    <tr>\n",
              "      <th>2016-12-31</th>\n",
              "      <td>116.65</td>\n",
              "      <td>117.2000</td>\n",
              "      <td>115.43</td>\n",
              "      <td>115.82</td>\n",
              "      <td>30586265.0</td>\n",
              "      <td>0.0</td>\n",
              "      <td>1.0</td>\n",
              "      <td>115.209202</td>\n",
              "      <td>115.752409</td>\n",
              "      <td>114.004271</td>\n",
              "      <td>114.389454</td>\n",
              "      <td>30586265.0</td>\n",
              "    </tr>\n",
              "  </tbody>\n",
              "</table>\n",
              "</div>"
            ],
            "text/plain": [
              "              Open      High     Low  ...    Adj. Low  Adj. Close  Adj. Volume\n",
              "Date                                  ...                                     \n",
              "2016-01-31   94.79   97.3400   94.35  ...   91.156128   94.044912   64416504.0\n",
              "2016-02-29   96.86   98.2300   96.65  ...   93.880927   93.919781   35216277.0\n",
              "2016-03-31  109.72  109.9000  108.88  ...  105.760531  105.867380   25888449.0\n",
              "2016-04-30   93.99   94.7200   92.51  ...   89.859540   91.054300   68531478.0\n",
              "2016-05-31   99.60  100.4000   98.82  ...   96.575559   97.591939   42307212.0\n",
              "2016-06-30   94.44   95.7700   94.30  ...   92.158220   93.428693   35836356.0\n",
              "2016-07-31  104.19  104.5500  103.68  ...  101.325177  101.843140   27733688.0\n",
              "2016-08-31  105.66  106.5699  105.64  ...  103.796505  104.248477   29662406.0\n",
              "2016-09-30  112.46  113.3700  111.80  ...  109.849008  111.077195   36379106.0\n",
              "2016-10-31  113.65  114.2300  113.20  ...  111.224577  111.558644   26419398.0\n",
              "2016-11-30  111.56  112.2000  110.27  ...  108.908004  109.154917   36162258.0\n",
              "2016-12-31  116.65  117.2000  115.43  ...  114.004271  114.389454   30586265.0\n",
              "\n",
              "[12 rows x 12 columns]"
            ]
          },
          "metadata": {
            "tags": []
          },
          "execution_count": 33
        }
      ]
    },
    {
      "cell_type": "markdown",
      "metadata": {
        "id": "obzQyqv6asw5"
      },
      "source": [
        "We may select certain columns of a DataFrame using their names:"
      ]
    },
    {
      "cell_type": "code",
      "metadata": {
        "colab": {
          "base_uri": "https://localhost:8080/",
          "height": 452
        },
        "id": "XQbLul7AauWQ",
        "outputId": "04c64dab-66e9-4e60-fb81-893662cbcd47"
      },
      "source": [
        "aapl_bar = aapl_month[['Open', 'High', 'Low', 'Close']]\n",
        "aapl_bar"
      ],
      "execution_count": 34,
      "outputs": [
        {
          "output_type": "execute_result",
          "data": {
            "text/html": [
              "<div>\n",
              "<style scoped>\n",
              "    .dataframe tbody tr th:only-of-type {\n",
              "        vertical-align: middle;\n",
              "    }\n",
              "\n",
              "    .dataframe tbody tr th {\n",
              "        vertical-align: top;\n",
              "    }\n",
              "\n",
              "    .dataframe thead th {\n",
              "        text-align: right;\n",
              "    }\n",
              "</style>\n",
              "<table border=\"1\" class=\"dataframe\">\n",
              "  <thead>\n",
              "    <tr style=\"text-align: right;\">\n",
              "      <th></th>\n",
              "      <th>Open</th>\n",
              "      <th>High</th>\n",
              "      <th>Low</th>\n",
              "      <th>Close</th>\n",
              "    </tr>\n",
              "    <tr>\n",
              "      <th>Date</th>\n",
              "      <th></th>\n",
              "      <th></th>\n",
              "      <th></th>\n",
              "      <th></th>\n",
              "    </tr>\n",
              "  </thead>\n",
              "  <tbody>\n",
              "    <tr>\n",
              "      <th>2016-01-31</th>\n",
              "      <td>94.79</td>\n",
              "      <td>97.3400</td>\n",
              "      <td>94.35</td>\n",
              "      <td>97.34</td>\n",
              "    </tr>\n",
              "    <tr>\n",
              "      <th>2016-02-29</th>\n",
              "      <td>96.86</td>\n",
              "      <td>98.2300</td>\n",
              "      <td>96.65</td>\n",
              "      <td>96.69</td>\n",
              "    </tr>\n",
              "    <tr>\n",
              "      <th>2016-03-31</th>\n",
              "      <td>109.72</td>\n",
              "      <td>109.9000</td>\n",
              "      <td>108.88</td>\n",
              "      <td>108.99</td>\n",
              "    </tr>\n",
              "    <tr>\n",
              "      <th>2016-04-30</th>\n",
              "      <td>93.99</td>\n",
              "      <td>94.7200</td>\n",
              "      <td>92.51</td>\n",
              "      <td>93.74</td>\n",
              "    </tr>\n",
              "    <tr>\n",
              "      <th>2016-05-31</th>\n",
              "      <td>99.60</td>\n",
              "      <td>100.4000</td>\n",
              "      <td>98.82</td>\n",
              "      <td>99.86</td>\n",
              "    </tr>\n",
              "    <tr>\n",
              "      <th>2016-06-30</th>\n",
              "      <td>94.44</td>\n",
              "      <td>95.7700</td>\n",
              "      <td>94.30</td>\n",
              "      <td>95.60</td>\n",
              "    </tr>\n",
              "    <tr>\n",
              "      <th>2016-07-31</th>\n",
              "      <td>104.19</td>\n",
              "      <td>104.5500</td>\n",
              "      <td>103.68</td>\n",
              "      <td>104.21</td>\n",
              "    </tr>\n",
              "    <tr>\n",
              "      <th>2016-08-31</th>\n",
              "      <td>105.66</td>\n",
              "      <td>106.5699</td>\n",
              "      <td>105.64</td>\n",
              "      <td>106.10</td>\n",
              "    </tr>\n",
              "    <tr>\n",
              "      <th>2016-09-30</th>\n",
              "      <td>112.46</td>\n",
              "      <td>113.3700</td>\n",
              "      <td>111.80</td>\n",
              "      <td>113.05</td>\n",
              "    </tr>\n",
              "    <tr>\n",
              "      <th>2016-10-31</th>\n",
              "      <td>113.65</td>\n",
              "      <td>114.2300</td>\n",
              "      <td>113.20</td>\n",
              "      <td>113.54</td>\n",
              "    </tr>\n",
              "    <tr>\n",
              "      <th>2016-11-30</th>\n",
              "      <td>111.56</td>\n",
              "      <td>112.2000</td>\n",
              "      <td>110.27</td>\n",
              "      <td>110.52</td>\n",
              "    </tr>\n",
              "    <tr>\n",
              "      <th>2016-12-31</th>\n",
              "      <td>116.65</td>\n",
              "      <td>117.2000</td>\n",
              "      <td>115.43</td>\n",
              "      <td>115.82</td>\n",
              "    </tr>\n",
              "  </tbody>\n",
              "</table>\n",
              "</div>"
            ],
            "text/plain": [
              "              Open      High     Low   Close\n",
              "Date                                        \n",
              "2016-01-31   94.79   97.3400   94.35   97.34\n",
              "2016-02-29   96.86   98.2300   96.65   96.69\n",
              "2016-03-31  109.72  109.9000  108.88  108.99\n",
              "2016-04-30   93.99   94.7200   92.51   93.74\n",
              "2016-05-31   99.60  100.4000   98.82   99.86\n",
              "2016-06-30   94.44   95.7700   94.30   95.60\n",
              "2016-07-31  104.19  104.5500  103.68  104.21\n",
              "2016-08-31  105.66  106.5699  105.64  106.10\n",
              "2016-09-30  112.46  113.3700  111.80  113.05\n",
              "2016-10-31  113.65  114.2300  113.20  113.54\n",
              "2016-11-30  111.56  112.2000  110.27  110.52\n",
              "2016-12-31  116.65  117.2000  115.43  115.82"
            ]
          },
          "metadata": {
            "tags": []
          },
          "execution_count": 34
        }
      ]
    },
    {
      "cell_type": "code",
      "metadata": {
        "colab": {
          "base_uri": "https://localhost:8080/",
          "height": 204
        },
        "id": "iICo5SfKa60A",
        "outputId": "fa8de9cb-7f58-410f-c4b8-77e575e3b74d"
      },
      "source": [
        "aapl_month.loc['2016-03':'2016-06', ['Open', 'High', 'Low', 'Close']]"
      ],
      "execution_count": 35,
      "outputs": [
        {
          "output_type": "execute_result",
          "data": {
            "text/html": [
              "<div>\n",
              "<style scoped>\n",
              "    .dataframe tbody tr th:only-of-type {\n",
              "        vertical-align: middle;\n",
              "    }\n",
              "\n",
              "    .dataframe tbody tr th {\n",
              "        vertical-align: top;\n",
              "    }\n",
              "\n",
              "    .dataframe thead th {\n",
              "        text-align: right;\n",
              "    }\n",
              "</style>\n",
              "<table border=\"1\" class=\"dataframe\">\n",
              "  <thead>\n",
              "    <tr style=\"text-align: right;\">\n",
              "      <th></th>\n",
              "      <th>Open</th>\n",
              "      <th>High</th>\n",
              "      <th>Low</th>\n",
              "      <th>Close</th>\n",
              "    </tr>\n",
              "    <tr>\n",
              "      <th>Date</th>\n",
              "      <th></th>\n",
              "      <th></th>\n",
              "      <th></th>\n",
              "      <th></th>\n",
              "    </tr>\n",
              "  </thead>\n",
              "  <tbody>\n",
              "    <tr>\n",
              "      <th>2016-03-31</th>\n",
              "      <td>109.72</td>\n",
              "      <td>109.90</td>\n",
              "      <td>108.88</td>\n",
              "      <td>108.99</td>\n",
              "    </tr>\n",
              "    <tr>\n",
              "      <th>2016-04-30</th>\n",
              "      <td>93.99</td>\n",
              "      <td>94.72</td>\n",
              "      <td>92.51</td>\n",
              "      <td>93.74</td>\n",
              "    </tr>\n",
              "    <tr>\n",
              "      <th>2016-05-31</th>\n",
              "      <td>99.60</td>\n",
              "      <td>100.40</td>\n",
              "      <td>98.82</td>\n",
              "      <td>99.86</td>\n",
              "    </tr>\n",
              "    <tr>\n",
              "      <th>2016-06-30</th>\n",
              "      <td>94.44</td>\n",
              "      <td>95.77</td>\n",
              "      <td>94.30</td>\n",
              "      <td>95.60</td>\n",
              "    </tr>\n",
              "  </tbody>\n",
              "</table>\n",
              "</div>"
            ],
            "text/plain": [
              "              Open    High     Low   Close\n",
              "Date                                      \n",
              "2016-03-31  109.72  109.90  108.88  108.99\n",
              "2016-04-30   93.99   94.72   92.51   93.74\n",
              "2016-05-31   99.60  100.40   98.82   99.86\n",
              "2016-06-30   94.44   95.77   94.30   95.60"
            ]
          },
          "metadata": {
            "tags": []
          },
          "execution_count": 35
        }
      ]
    },
    {
      "cell_type": "markdown",
      "metadata": {
        "id": "OA8yhmR_a8s4"
      },
      "source": [
        "The subset methods in DataFrame is quite useful. By writing logical statements in square brackets, we can make customized subsets:"
      ]
    },
    {
      "cell_type": "code",
      "metadata": {
        "colab": {
          "base_uri": "https://localhost:8080/",
          "height": 266
        },
        "id": "9rbn62QIa-eA",
        "outputId": "c97378a3-95ed-40d9-a3f8-954db2044537"
      },
      "source": [
        "above = aapl_bar[aapl_bar.Close > np.mean(aapl_bar.Close)]\n",
        "above"
      ],
      "execution_count": 37,
      "outputs": [
        {
          "output_type": "execute_result",
          "data": {
            "text/html": [
              "<div>\n",
              "<style scoped>\n",
              "    .dataframe tbody tr th:only-of-type {\n",
              "        vertical-align: middle;\n",
              "    }\n",
              "\n",
              "    .dataframe tbody tr th {\n",
              "        vertical-align: top;\n",
              "    }\n",
              "\n",
              "    .dataframe thead th {\n",
              "        text-align: right;\n",
              "    }\n",
              "</style>\n",
              "<table border=\"1\" class=\"dataframe\">\n",
              "  <thead>\n",
              "    <tr style=\"text-align: right;\">\n",
              "      <th></th>\n",
              "      <th>Open</th>\n",
              "      <th>High</th>\n",
              "      <th>Low</th>\n",
              "      <th>Close</th>\n",
              "    </tr>\n",
              "    <tr>\n",
              "      <th>Date</th>\n",
              "      <th></th>\n",
              "      <th></th>\n",
              "      <th></th>\n",
              "      <th></th>\n",
              "    </tr>\n",
              "  </thead>\n",
              "  <tbody>\n",
              "    <tr>\n",
              "      <th>2016-03-31</th>\n",
              "      <td>109.72</td>\n",
              "      <td>109.9000</td>\n",
              "      <td>108.88</td>\n",
              "      <td>108.99</td>\n",
              "    </tr>\n",
              "    <tr>\n",
              "      <th>2016-08-31</th>\n",
              "      <td>105.66</td>\n",
              "      <td>106.5699</td>\n",
              "      <td>105.64</td>\n",
              "      <td>106.10</td>\n",
              "    </tr>\n",
              "    <tr>\n",
              "      <th>2016-09-30</th>\n",
              "      <td>112.46</td>\n",
              "      <td>113.3700</td>\n",
              "      <td>111.80</td>\n",
              "      <td>113.05</td>\n",
              "    </tr>\n",
              "    <tr>\n",
              "      <th>2016-10-31</th>\n",
              "      <td>113.65</td>\n",
              "      <td>114.2300</td>\n",
              "      <td>113.20</td>\n",
              "      <td>113.54</td>\n",
              "    </tr>\n",
              "    <tr>\n",
              "      <th>2016-11-30</th>\n",
              "      <td>111.56</td>\n",
              "      <td>112.2000</td>\n",
              "      <td>110.27</td>\n",
              "      <td>110.52</td>\n",
              "    </tr>\n",
              "    <tr>\n",
              "      <th>2016-12-31</th>\n",
              "      <td>116.65</td>\n",
              "      <td>117.2000</td>\n",
              "      <td>115.43</td>\n",
              "      <td>115.82</td>\n",
              "    </tr>\n",
              "  </tbody>\n",
              "</table>\n",
              "</div>"
            ],
            "text/plain": [
              "              Open      High     Low   Close\n",
              "Date                                        \n",
              "2016-03-31  109.72  109.9000  108.88  108.99\n",
              "2016-08-31  105.66  106.5699  105.64  106.10\n",
              "2016-09-30  112.46  113.3700  111.80  113.05\n",
              "2016-10-31  113.65  114.2300  113.20  113.54\n",
              "2016-11-30  111.56  112.2000  110.27  110.52\n",
              "2016-12-31  116.65  117.2000  115.43  115.82"
            ]
          },
          "metadata": {
            "tags": []
          },
          "execution_count": 37
        }
      ]
    },
    {
      "cell_type": "markdown",
      "metadata": {
        "id": "OEFYzs71bE1y"
      },
      "source": [
        "### Data Validation"
      ]
    },
    {
      "cell_type": "markdown",
      "metadata": {
        "id": "gS_2RB4DbHFh"
      },
      "source": [
        "As mentioned, all methods that apply to a Series can also be applied to a DataFrame. Here we add a new column to an existing DataFrame:"
      ]
    },
    {
      "cell_type": "code",
      "metadata": {
        "colab": {
          "base_uri": "https://localhost:8080/",
          "height": 554
        },
        "id": "EiUSjqWwbL6B",
        "outputId": "267152a9-99de-4330-a366-ecdec778113f"
      },
      "source": [
        "aapl_bar['rate_return'] = aapl_bar.Close.pct_change()\n",
        "aapl_bar"
      ],
      "execution_count": 38,
      "outputs": [
        {
          "output_type": "stream",
          "text": [
            "/usr/local/lib/python3.7/dist-packages/ipykernel_launcher.py:1: SettingWithCopyWarning: \n",
            "A value is trying to be set on a copy of a slice from a DataFrame.\n",
            "Try using .loc[row_indexer,col_indexer] = value instead\n",
            "\n",
            "See the caveats in the documentation: https://pandas.pydata.org/pandas-docs/stable/user_guide/indexing.html#returning-a-view-versus-a-copy\n",
            "  \"\"\"Entry point for launching an IPython kernel.\n"
          ],
          "name": "stderr"
        },
        {
          "output_type": "execute_result",
          "data": {
            "text/html": [
              "<div>\n",
              "<style scoped>\n",
              "    .dataframe tbody tr th:only-of-type {\n",
              "        vertical-align: middle;\n",
              "    }\n",
              "\n",
              "    .dataframe tbody tr th {\n",
              "        vertical-align: top;\n",
              "    }\n",
              "\n",
              "    .dataframe thead th {\n",
              "        text-align: right;\n",
              "    }\n",
              "</style>\n",
              "<table border=\"1\" class=\"dataframe\">\n",
              "  <thead>\n",
              "    <tr style=\"text-align: right;\">\n",
              "      <th></th>\n",
              "      <th>Open</th>\n",
              "      <th>High</th>\n",
              "      <th>Low</th>\n",
              "      <th>Close</th>\n",
              "      <th>rate_return</th>\n",
              "    </tr>\n",
              "    <tr>\n",
              "      <th>Date</th>\n",
              "      <th></th>\n",
              "      <th></th>\n",
              "      <th></th>\n",
              "      <th></th>\n",
              "      <th></th>\n",
              "    </tr>\n",
              "  </thead>\n",
              "  <tbody>\n",
              "    <tr>\n",
              "      <th>2016-01-31</th>\n",
              "      <td>94.79</td>\n",
              "      <td>97.3400</td>\n",
              "      <td>94.35</td>\n",
              "      <td>97.34</td>\n",
              "      <td>NaN</td>\n",
              "    </tr>\n",
              "    <tr>\n",
              "      <th>2016-02-29</th>\n",
              "      <td>96.86</td>\n",
              "      <td>98.2300</td>\n",
              "      <td>96.65</td>\n",
              "      <td>96.69</td>\n",
              "      <td>-0.006678</td>\n",
              "    </tr>\n",
              "    <tr>\n",
              "      <th>2016-03-31</th>\n",
              "      <td>109.72</td>\n",
              "      <td>109.9000</td>\n",
              "      <td>108.88</td>\n",
              "      <td>108.99</td>\n",
              "      <td>0.127211</td>\n",
              "    </tr>\n",
              "    <tr>\n",
              "      <th>2016-04-30</th>\n",
              "      <td>93.99</td>\n",
              "      <td>94.7200</td>\n",
              "      <td>92.51</td>\n",
              "      <td>93.74</td>\n",
              "      <td>-0.139921</td>\n",
              "    </tr>\n",
              "    <tr>\n",
              "      <th>2016-05-31</th>\n",
              "      <td>99.60</td>\n",
              "      <td>100.4000</td>\n",
              "      <td>98.82</td>\n",
              "      <td>99.86</td>\n",
              "      <td>0.065287</td>\n",
              "    </tr>\n",
              "    <tr>\n",
              "      <th>2016-06-30</th>\n",
              "      <td>94.44</td>\n",
              "      <td>95.7700</td>\n",
              "      <td>94.30</td>\n",
              "      <td>95.60</td>\n",
              "      <td>-0.042660</td>\n",
              "    </tr>\n",
              "    <tr>\n",
              "      <th>2016-07-31</th>\n",
              "      <td>104.19</td>\n",
              "      <td>104.5500</td>\n",
              "      <td>103.68</td>\n",
              "      <td>104.21</td>\n",
              "      <td>0.090063</td>\n",
              "    </tr>\n",
              "    <tr>\n",
              "      <th>2016-08-31</th>\n",
              "      <td>105.66</td>\n",
              "      <td>106.5699</td>\n",
              "      <td>105.64</td>\n",
              "      <td>106.10</td>\n",
              "      <td>0.018136</td>\n",
              "    </tr>\n",
              "    <tr>\n",
              "      <th>2016-09-30</th>\n",
              "      <td>112.46</td>\n",
              "      <td>113.3700</td>\n",
              "      <td>111.80</td>\n",
              "      <td>113.05</td>\n",
              "      <td>0.065504</td>\n",
              "    </tr>\n",
              "    <tr>\n",
              "      <th>2016-10-31</th>\n",
              "      <td>113.65</td>\n",
              "      <td>114.2300</td>\n",
              "      <td>113.20</td>\n",
              "      <td>113.54</td>\n",
              "      <td>0.004334</td>\n",
              "    </tr>\n",
              "    <tr>\n",
              "      <th>2016-11-30</th>\n",
              "      <td>111.56</td>\n",
              "      <td>112.2000</td>\n",
              "      <td>110.27</td>\n",
              "      <td>110.52</td>\n",
              "      <td>-0.026599</td>\n",
              "    </tr>\n",
              "    <tr>\n",
              "      <th>2016-12-31</th>\n",
              "      <td>116.65</td>\n",
              "      <td>117.2000</td>\n",
              "      <td>115.43</td>\n",
              "      <td>115.82</td>\n",
              "      <td>0.047955</td>\n",
              "    </tr>\n",
              "  </tbody>\n",
              "</table>\n",
              "</div>"
            ],
            "text/plain": [
              "              Open      High     Low   Close  rate_return\n",
              "Date                                                     \n",
              "2016-01-31   94.79   97.3400   94.35   97.34          NaN\n",
              "2016-02-29   96.86   98.2300   96.65   96.69    -0.006678\n",
              "2016-03-31  109.72  109.9000  108.88  108.99     0.127211\n",
              "2016-04-30   93.99   94.7200   92.51   93.74    -0.139921\n",
              "2016-05-31   99.60  100.4000   98.82   99.86     0.065287\n",
              "2016-06-30   94.44   95.7700   94.30   95.60    -0.042660\n",
              "2016-07-31  104.19  104.5500  103.68  104.21     0.090063\n",
              "2016-08-31  105.66  106.5699  105.64  106.10     0.018136\n",
              "2016-09-30  112.46  113.3700  111.80  113.05     0.065504\n",
              "2016-10-31  113.65  114.2300  113.20  113.54     0.004334\n",
              "2016-11-30  111.56  112.2000  110.27  110.52    -0.026599\n",
              "2016-12-31  116.65  117.2000  115.43  115.82     0.047955"
            ]
          },
          "metadata": {
            "tags": []
          },
          "execution_count": 38
        }
      ]
    },
    {
      "cell_type": "markdown",
      "metadata": {
        "id": "mHrWrolybQoh"
      },
      "source": [
        "Here the calculation introduced a NaN value. If the DataFrame is large, we would not be able to observe it. `isnull()` provides a convenient way to check abnormal values."
      ]
    },
    {
      "cell_type": "code",
      "metadata": {
        "colab": {
          "base_uri": "https://localhost:8080/"
        },
        "id": "xMR-Oe40bUDp",
        "outputId": "4a253b53-b39a-4001-db15-67d0e2219083"
      },
      "source": [
        "missing = aapl_bar.isnull()\n",
        "print(missing)\n",
        "print('---------------------------------------------')\n",
        "print(missing.describe())"
      ],
      "execution_count": 39,
      "outputs": [
        {
          "output_type": "stream",
          "text": [
            "             Open   High    Low  Close  rate_return\n",
            "Date                                               \n",
            "2016-01-31  False  False  False  False         True\n",
            "2016-02-29  False  False  False  False        False\n",
            "2016-03-31  False  False  False  False        False\n",
            "2016-04-30  False  False  False  False        False\n",
            "2016-05-31  False  False  False  False        False\n",
            "2016-06-30  False  False  False  False        False\n",
            "2016-07-31  False  False  False  False        False\n",
            "2016-08-31  False  False  False  False        False\n",
            "2016-09-30  False  False  False  False        False\n",
            "2016-10-31  False  False  False  False        False\n",
            "2016-11-30  False  False  False  False        False\n",
            "2016-12-31  False  False  False  False        False\n",
            "---------------------------------------------\n",
            "         Open   High    Low  Close rate_return\n",
            "count      12     12     12     12          12\n",
            "unique      1      1      1      1           2\n",
            "top     False  False  False  False       False\n",
            "freq       12     12     12     12          11\n"
          ],
          "name": "stdout"
        }
      ]
    },
    {
      "cell_type": "markdown",
      "metadata": {
        "id": "B3grHlHqbZdi"
      },
      "source": [
        "The row labelled \"`unique`\" indicates the number of unique values in each column. Since the \"`rate_return`\" column has 2 unique values, it has at least one missing value.\n",
        "\n",
        "We can deduce the number of missing values by comparing \"`count`\" with \"`freq`\". There are 12 counts and 11 False values, so there is one True value which corresponds to the missing value.\n",
        "\n",
        "We can also find the rows with missing values easily:"
      ]
    },
    {
      "cell_type": "code",
      "metadata": {
        "colab": {
          "base_uri": "https://localhost:8080/",
          "height": 111
        },
        "id": "HsB2Bs2ubeeZ",
        "outputId": "b818f040-4289-4f31-b4d7-ed68a1a16957"
      },
      "source": [
        "missing[missing.rate_return == True]"
      ],
      "execution_count": 40,
      "outputs": [
        {
          "output_type": "execute_result",
          "data": {
            "text/html": [
              "<div>\n",
              "<style scoped>\n",
              "    .dataframe tbody tr th:only-of-type {\n",
              "        vertical-align: middle;\n",
              "    }\n",
              "\n",
              "    .dataframe tbody tr th {\n",
              "        vertical-align: top;\n",
              "    }\n",
              "\n",
              "    .dataframe thead th {\n",
              "        text-align: right;\n",
              "    }\n",
              "</style>\n",
              "<table border=\"1\" class=\"dataframe\">\n",
              "  <thead>\n",
              "    <tr style=\"text-align: right;\">\n",
              "      <th></th>\n",
              "      <th>Open</th>\n",
              "      <th>High</th>\n",
              "      <th>Low</th>\n",
              "      <th>Close</th>\n",
              "      <th>rate_return</th>\n",
              "    </tr>\n",
              "    <tr>\n",
              "      <th>Date</th>\n",
              "      <th></th>\n",
              "      <th></th>\n",
              "      <th></th>\n",
              "      <th></th>\n",
              "      <th></th>\n",
              "    </tr>\n",
              "  </thead>\n",
              "  <tbody>\n",
              "    <tr>\n",
              "      <th>2016-01-31</th>\n",
              "      <td>False</td>\n",
              "      <td>False</td>\n",
              "      <td>False</td>\n",
              "      <td>False</td>\n",
              "      <td>True</td>\n",
              "    </tr>\n",
              "  </tbody>\n",
              "</table>\n",
              "</div>"
            ],
            "text/plain": [
              "             Open   High    Low  Close  rate_return\n",
              "Date                                               \n",
              "2016-01-31  False  False  False  False         True"
            ]
          },
          "metadata": {
            "tags": []
          },
          "execution_count": 40
        }
      ]
    },
    {
      "cell_type": "markdown",
      "metadata": {
        "id": "P1nhtEdwbgge"
      },
      "source": [
        "Usually when dealing with missing data, we either delete the whole row or fill it with some value. As we introduced in the Series chapter, the same method `dropna()` and `fillna()` can be applied to a DataFrame."
      ]
    },
    {
      "cell_type": "code",
      "metadata": {
        "colab": {
          "base_uri": "https://localhost:8080/"
        },
        "id": "6QXHl14rblVq",
        "outputId": "0abb1665-c76a-4633-beaa-5e3c95a1d218"
      },
      "source": [
        "drop = aapl_bar.dropna()\n",
        "print(drop)\n",
        "print('\\n--------------------------------------------------\\n')\n",
        "fill = aapl_bar.fillna(0)\n",
        "print(fill)"
      ],
      "execution_count": 41,
      "outputs": [
        {
          "output_type": "stream",
          "text": [
            "              Open      High     Low   Close  rate_return\n",
            "Date                                                     \n",
            "2016-02-29   96.86   98.2300   96.65   96.69    -0.006678\n",
            "2016-03-31  109.72  109.9000  108.88  108.99     0.127211\n",
            "2016-04-30   93.99   94.7200   92.51   93.74    -0.139921\n",
            "2016-05-31   99.60  100.4000   98.82   99.86     0.065287\n",
            "2016-06-30   94.44   95.7700   94.30   95.60    -0.042660\n",
            "2016-07-31  104.19  104.5500  103.68  104.21     0.090063\n",
            "2016-08-31  105.66  106.5699  105.64  106.10     0.018136\n",
            "2016-09-30  112.46  113.3700  111.80  113.05     0.065504\n",
            "2016-10-31  113.65  114.2300  113.20  113.54     0.004334\n",
            "2016-11-30  111.56  112.2000  110.27  110.52    -0.026599\n",
            "2016-12-31  116.65  117.2000  115.43  115.82     0.047955\n",
            "\n",
            "--------------------------------------------------\n",
            "\n",
            "              Open      High     Low   Close  rate_return\n",
            "Date                                                     \n",
            "2016-01-31   94.79   97.3400   94.35   97.34     0.000000\n",
            "2016-02-29   96.86   98.2300   96.65   96.69    -0.006678\n",
            "2016-03-31  109.72  109.9000  108.88  108.99     0.127211\n",
            "2016-04-30   93.99   94.7200   92.51   93.74    -0.139921\n",
            "2016-05-31   99.60  100.4000   98.82   99.86     0.065287\n",
            "2016-06-30   94.44   95.7700   94.30   95.60    -0.042660\n",
            "2016-07-31  104.19  104.5500  103.68  104.21     0.090063\n",
            "2016-08-31  105.66  106.5699  105.64  106.10     0.018136\n",
            "2016-09-30  112.46  113.3700  111.80  113.05     0.065504\n",
            "2016-10-31  113.65  114.2300  113.20  113.54     0.004334\n",
            "2016-11-30  111.56  112.2000  110.27  110.52    -0.026599\n",
            "2016-12-31  116.65  117.2000  115.43  115.82     0.047955\n"
          ],
          "name": "stdout"
        }
      ]
    },
    {
      "cell_type": "markdown",
      "metadata": {
        "id": "j7Nx-Wajbqdy"
      },
      "source": [
        "### DataFrame Concat"
      ]
    },
    {
      "cell_type": "markdown",
      "metadata": {
        "id": "wgF9IVbJbsh3"
      },
      "source": [
        "We have seen how to extract a Series from a dataFrame. Now we need to consider how to merge a Series or a DataFrame into another one.\n",
        "\n",
        "In Pandas, the function `concat()` allows us to merge multiple Series into a DataFrame:"
      ]
    },
    {
      "cell_type": "code",
      "metadata": {
        "colab": {
          "base_uri": "https://localhost:8080/"
        },
        "id": "iYFi78RCb4Xy",
        "outputId": "2db901fb-48c5-480e-a93b-b14e1b29d737"
      },
      "source": [
        "s1 = pd.Series([143.5, 144.09, 142.73, 144.18, 143.77], name = 'AAPL')\n",
        "s2 = pd.Series([898.7, 911.71, 906.69, 918.59, 926.99], name = 'GOOG')\n",
        "print(pd.concat([s1, s2], axis = 1))\n"
      ],
      "execution_count": 43,
      "outputs": [
        {
          "output_type": "stream",
          "text": [
            "     AAPL    GOOG\n",
            "0  143.50  898.70\n",
            "1  144.09  911.71\n",
            "2  142.73  906.69\n",
            "3  144.18  918.59\n",
            "4  143.77  926.99\n"
          ],
          "name": "stdout"
        }
      ]
    },
    {
      "cell_type": "markdown",
      "metadata": {
        "id": "fwslZQmhcACL"
      },
      "source": [
        "The \"`axis = 1`\" parameter will join two DataFrames by columns:"
      ]
    },
    {
      "cell_type": "code",
      "metadata": {
        "colab": {
          "base_uri": "https://localhost:8080/"
        },
        "id": "8XrwKQRNcCSC",
        "outputId": "77e0c95c-ac7a-4f71-e725-a08b34bca8fe"
      },
      "source": [
        "log_price = np.log(aapl_bar.Close)\n",
        "log_price.name = 'log_price'\n",
        "print(log_price)\n",
        "print('\\n--------------------------------------------\\n')\n",
        "concat = pd.concat([aapl_bar, log_price], axis = 1)\n",
        "print(concat)"
      ],
      "execution_count": 44,
      "outputs": [
        {
          "output_type": "stream",
          "text": [
            "Date\n",
            "2016-01-31    4.578210\n",
            "2016-02-29    4.571510\n",
            "2016-03-31    4.691256\n",
            "2016-04-30    4.540525\n",
            "2016-05-31    4.603769\n",
            "2016-06-30    4.560173\n",
            "2016-07-31    4.646408\n",
            "2016-08-31    4.664382\n",
            "2016-09-30    4.727830\n",
            "2016-10-31    4.732155\n",
            "2016-11-30    4.705197\n",
            "2016-12-31    4.752037\n",
            "Freq: M, Name: log_price, dtype: float64\n",
            "\n",
            "--------------------------------------------\n",
            "\n",
            "              Open      High     Low   Close  rate_return  log_price\n",
            "Date                                                                \n",
            "2016-01-31   94.79   97.3400   94.35   97.34          NaN   4.578210\n",
            "2016-02-29   96.86   98.2300   96.65   96.69    -0.006678   4.571510\n",
            "2016-03-31  109.72  109.9000  108.88  108.99     0.127211   4.691256\n",
            "2016-04-30   93.99   94.7200   92.51   93.74    -0.139921   4.540525\n",
            "2016-05-31   99.60  100.4000   98.82   99.86     0.065287   4.603769\n",
            "2016-06-30   94.44   95.7700   94.30   95.60    -0.042660   4.560173\n",
            "2016-07-31  104.19  104.5500  103.68  104.21     0.090063   4.646408\n",
            "2016-08-31  105.66  106.5699  105.64  106.10     0.018136   4.664382\n",
            "2016-09-30  112.46  113.3700  111.80  113.05     0.065504   4.727830\n",
            "2016-10-31  113.65  114.2300  113.20  113.54     0.004334   4.732155\n",
            "2016-11-30  111.56  112.2000  110.27  110.52    -0.026599   4.705197\n",
            "2016-12-31  116.65  117.2000  115.43  115.82     0.047955   4.752037\n"
          ],
          "name": "stdout"
        }
      ]
    },
    {
      "cell_type": "markdown",
      "metadata": {
        "id": "6X8_JKfKcHMU"
      },
      "source": [
        "We can also join two DataFrames by rows. Consider these two DataFrames:"
      ]
    },
    {
      "cell_type": "code",
      "metadata": {
        "colab": {
          "base_uri": "https://localhost:8080/"
        },
        "id": "SGme1yLFcI36",
        "outputId": "6febcd98-b232-469d-d304-69181602c36a"
      },
      "source": [
        "df_volume = aapl_table.loc['2016-10':'2017-04', ['Volume', 'Split Ratio']].resample('M').agg(lambda x: x[-1])\n",
        "print(df_volume)\n",
        "print('\\n-------------------------------------------\\n')\n",
        "df_2017 = aapl_table.loc['2016-10':'2017-04', ['Open', 'High', 'Low', 'Close']].resample('M').agg(lambda x: x[-1])\n",
        "print(df_2017)"
      ],
      "execution_count": 45,
      "outputs": [
        {
          "output_type": "stream",
          "text": [
            "                Volume  Split Ratio\n",
            "Date                               \n",
            "2016-10-31  26419398.0          1.0\n",
            "2016-11-30  36162258.0          1.0\n",
            "2016-12-31  30586265.0          1.0\n",
            "2017-01-31  49200993.0          1.0\n",
            "2017-02-28  23482860.0          1.0\n",
            "2017-03-31  19661651.0          1.0\n",
            "2017-04-30  20247187.0          1.0\n",
            "\n",
            "-------------------------------------------\n",
            "\n",
            "              Open     High     Low   Close\n",
            "Date                                       \n",
            "2016-10-31  113.65  114.230  113.20  113.54\n",
            "2016-11-30  111.56  112.200  110.27  110.52\n",
            "2016-12-31  116.65  117.200  115.43  115.82\n",
            "2017-01-31  121.15  121.390  120.62  121.35\n",
            "2017-02-28  137.08  137.435  136.70  136.99\n",
            "2017-03-31  143.72  144.270  143.01  143.66\n",
            "2017-04-30  144.09  144.300  143.27  143.65\n"
          ],
          "name": "stdout"
        }
      ]
    },
    {
      "cell_type": "markdown",
      "metadata": {
        "id": "qh3pVuDNcN4x"
      },
      "source": [
        "Now we merge the DataFrames with our DataFrame 'aapl_bar'"
      ]
    },
    {
      "cell_type": "code",
      "metadata": {
        "colab": {
          "base_uri": "https://localhost:8080/",
          "height": 576
        },
        "id": "87yRR93ecPnq",
        "outputId": "7a404712-8bb4-4404-e629-8f7acdba4546"
      },
      "source": [
        "concat = pd.concat([aapl_bar, df_volume], axis = 1)\n",
        "concat"
      ],
      "execution_count": 46,
      "outputs": [
        {
          "output_type": "execute_result",
          "data": {
            "text/html": [
              "<div>\n",
              "<style scoped>\n",
              "    .dataframe tbody tr th:only-of-type {\n",
              "        vertical-align: middle;\n",
              "    }\n",
              "\n",
              "    .dataframe tbody tr th {\n",
              "        vertical-align: top;\n",
              "    }\n",
              "\n",
              "    .dataframe thead th {\n",
              "        text-align: right;\n",
              "    }\n",
              "</style>\n",
              "<table border=\"1\" class=\"dataframe\">\n",
              "  <thead>\n",
              "    <tr style=\"text-align: right;\">\n",
              "      <th></th>\n",
              "      <th>Open</th>\n",
              "      <th>High</th>\n",
              "      <th>Low</th>\n",
              "      <th>Close</th>\n",
              "      <th>rate_return</th>\n",
              "      <th>Volume</th>\n",
              "      <th>Split Ratio</th>\n",
              "    </tr>\n",
              "    <tr>\n",
              "      <th>Date</th>\n",
              "      <th></th>\n",
              "      <th></th>\n",
              "      <th></th>\n",
              "      <th></th>\n",
              "      <th></th>\n",
              "      <th></th>\n",
              "      <th></th>\n",
              "    </tr>\n",
              "  </thead>\n",
              "  <tbody>\n",
              "    <tr>\n",
              "      <th>2016-01-31</th>\n",
              "      <td>94.79</td>\n",
              "      <td>97.3400</td>\n",
              "      <td>94.35</td>\n",
              "      <td>97.34</td>\n",
              "      <td>NaN</td>\n",
              "      <td>NaN</td>\n",
              "      <td>NaN</td>\n",
              "    </tr>\n",
              "    <tr>\n",
              "      <th>2016-02-29</th>\n",
              "      <td>96.86</td>\n",
              "      <td>98.2300</td>\n",
              "      <td>96.65</td>\n",
              "      <td>96.69</td>\n",
              "      <td>-0.006678</td>\n",
              "      <td>NaN</td>\n",
              "      <td>NaN</td>\n",
              "    </tr>\n",
              "    <tr>\n",
              "      <th>2016-03-31</th>\n",
              "      <td>109.72</td>\n",
              "      <td>109.9000</td>\n",
              "      <td>108.88</td>\n",
              "      <td>108.99</td>\n",
              "      <td>0.127211</td>\n",
              "      <td>NaN</td>\n",
              "      <td>NaN</td>\n",
              "    </tr>\n",
              "    <tr>\n",
              "      <th>2016-04-30</th>\n",
              "      <td>93.99</td>\n",
              "      <td>94.7200</td>\n",
              "      <td>92.51</td>\n",
              "      <td>93.74</td>\n",
              "      <td>-0.139921</td>\n",
              "      <td>NaN</td>\n",
              "      <td>NaN</td>\n",
              "    </tr>\n",
              "    <tr>\n",
              "      <th>2016-05-31</th>\n",
              "      <td>99.60</td>\n",
              "      <td>100.4000</td>\n",
              "      <td>98.82</td>\n",
              "      <td>99.86</td>\n",
              "      <td>0.065287</td>\n",
              "      <td>NaN</td>\n",
              "      <td>NaN</td>\n",
              "    </tr>\n",
              "    <tr>\n",
              "      <th>2016-06-30</th>\n",
              "      <td>94.44</td>\n",
              "      <td>95.7700</td>\n",
              "      <td>94.30</td>\n",
              "      <td>95.60</td>\n",
              "      <td>-0.042660</td>\n",
              "      <td>NaN</td>\n",
              "      <td>NaN</td>\n",
              "    </tr>\n",
              "    <tr>\n",
              "      <th>2016-07-31</th>\n",
              "      <td>104.19</td>\n",
              "      <td>104.5500</td>\n",
              "      <td>103.68</td>\n",
              "      <td>104.21</td>\n",
              "      <td>0.090063</td>\n",
              "      <td>NaN</td>\n",
              "      <td>NaN</td>\n",
              "    </tr>\n",
              "    <tr>\n",
              "      <th>2016-08-31</th>\n",
              "      <td>105.66</td>\n",
              "      <td>106.5699</td>\n",
              "      <td>105.64</td>\n",
              "      <td>106.10</td>\n",
              "      <td>0.018136</td>\n",
              "      <td>NaN</td>\n",
              "      <td>NaN</td>\n",
              "    </tr>\n",
              "    <tr>\n",
              "      <th>2016-09-30</th>\n",
              "      <td>112.46</td>\n",
              "      <td>113.3700</td>\n",
              "      <td>111.80</td>\n",
              "      <td>113.05</td>\n",
              "      <td>0.065504</td>\n",
              "      <td>NaN</td>\n",
              "      <td>NaN</td>\n",
              "    </tr>\n",
              "    <tr>\n",
              "      <th>2016-10-31</th>\n",
              "      <td>113.65</td>\n",
              "      <td>114.2300</td>\n",
              "      <td>113.20</td>\n",
              "      <td>113.54</td>\n",
              "      <td>0.004334</td>\n",
              "      <td>26419398.0</td>\n",
              "      <td>1.0</td>\n",
              "    </tr>\n",
              "    <tr>\n",
              "      <th>2016-11-30</th>\n",
              "      <td>111.56</td>\n",
              "      <td>112.2000</td>\n",
              "      <td>110.27</td>\n",
              "      <td>110.52</td>\n",
              "      <td>-0.026599</td>\n",
              "      <td>36162258.0</td>\n",
              "      <td>1.0</td>\n",
              "    </tr>\n",
              "    <tr>\n",
              "      <th>2016-12-31</th>\n",
              "      <td>116.65</td>\n",
              "      <td>117.2000</td>\n",
              "      <td>115.43</td>\n",
              "      <td>115.82</td>\n",
              "      <td>0.047955</td>\n",
              "      <td>30586265.0</td>\n",
              "      <td>1.0</td>\n",
              "    </tr>\n",
              "    <tr>\n",
              "      <th>2017-01-31</th>\n",
              "      <td>NaN</td>\n",
              "      <td>NaN</td>\n",
              "      <td>NaN</td>\n",
              "      <td>NaN</td>\n",
              "      <td>NaN</td>\n",
              "      <td>49200993.0</td>\n",
              "      <td>1.0</td>\n",
              "    </tr>\n",
              "    <tr>\n",
              "      <th>2017-02-28</th>\n",
              "      <td>NaN</td>\n",
              "      <td>NaN</td>\n",
              "      <td>NaN</td>\n",
              "      <td>NaN</td>\n",
              "      <td>NaN</td>\n",
              "      <td>23482860.0</td>\n",
              "      <td>1.0</td>\n",
              "    </tr>\n",
              "    <tr>\n",
              "      <th>2017-03-31</th>\n",
              "      <td>NaN</td>\n",
              "      <td>NaN</td>\n",
              "      <td>NaN</td>\n",
              "      <td>NaN</td>\n",
              "      <td>NaN</td>\n",
              "      <td>19661651.0</td>\n",
              "      <td>1.0</td>\n",
              "    </tr>\n",
              "    <tr>\n",
              "      <th>2017-04-30</th>\n",
              "      <td>NaN</td>\n",
              "      <td>NaN</td>\n",
              "      <td>NaN</td>\n",
              "      <td>NaN</td>\n",
              "      <td>NaN</td>\n",
              "      <td>20247187.0</td>\n",
              "      <td>1.0</td>\n",
              "    </tr>\n",
              "  </tbody>\n",
              "</table>\n",
              "</div>"
            ],
            "text/plain": [
              "              Open      High     Low  ...  rate_return      Volume  Split Ratio\n",
              "Date                                  ...                                      \n",
              "2016-01-31   94.79   97.3400   94.35  ...          NaN         NaN          NaN\n",
              "2016-02-29   96.86   98.2300   96.65  ...    -0.006678         NaN          NaN\n",
              "2016-03-31  109.72  109.9000  108.88  ...     0.127211         NaN          NaN\n",
              "2016-04-30   93.99   94.7200   92.51  ...    -0.139921         NaN          NaN\n",
              "2016-05-31   99.60  100.4000   98.82  ...     0.065287         NaN          NaN\n",
              "2016-06-30   94.44   95.7700   94.30  ...    -0.042660         NaN          NaN\n",
              "2016-07-31  104.19  104.5500  103.68  ...     0.090063         NaN          NaN\n",
              "2016-08-31  105.66  106.5699  105.64  ...     0.018136         NaN          NaN\n",
              "2016-09-30  112.46  113.3700  111.80  ...     0.065504         NaN          NaN\n",
              "2016-10-31  113.65  114.2300  113.20  ...     0.004334  26419398.0          1.0\n",
              "2016-11-30  111.56  112.2000  110.27  ...    -0.026599  36162258.0          1.0\n",
              "2016-12-31  116.65  117.2000  115.43  ...     0.047955  30586265.0          1.0\n",
              "2017-01-31     NaN       NaN     NaN  ...          NaN  49200993.0          1.0\n",
              "2017-02-28     NaN       NaN     NaN  ...          NaN  23482860.0          1.0\n",
              "2017-03-31     NaN       NaN     NaN  ...          NaN  19661651.0          1.0\n",
              "2017-04-30     NaN       NaN     NaN  ...          NaN  20247187.0          1.0\n",
              "\n",
              "[16 rows x 7 columns]"
            ]
          },
          "metadata": {
            "tags": []
          },
          "execution_count": 46
        }
      ]
    },
    {
      "cell_type": "markdown",
      "metadata": {
        "id": "3d8ox1Qqce69"
      },
      "source": [
        "By default the DataFrame are joined with all of the data. This default options results in zero information loss. We can also merge them by intersection, this is called '`inner join`':"
      ]
    },
    {
      "cell_type": "code",
      "metadata": {
        "colab": {
          "base_uri": "https://localhost:8080/",
          "height": 173
        },
        "id": "ZXgSFV5mchCS",
        "outputId": "eaff4355-2a5e-455a-e09e-a26278cd1cc4"
      },
      "source": [
        "concat = pd.concat([aapl_bar, df_volume], axis = 1, join = 'inner')\n",
        "concat"
      ],
      "execution_count": 47,
      "outputs": [
        {
          "output_type": "execute_result",
          "data": {
            "text/html": [
              "<div>\n",
              "<style scoped>\n",
              "    .dataframe tbody tr th:only-of-type {\n",
              "        vertical-align: middle;\n",
              "    }\n",
              "\n",
              "    .dataframe tbody tr th {\n",
              "        vertical-align: top;\n",
              "    }\n",
              "\n",
              "    .dataframe thead th {\n",
              "        text-align: right;\n",
              "    }\n",
              "</style>\n",
              "<table border=\"1\" class=\"dataframe\">\n",
              "  <thead>\n",
              "    <tr style=\"text-align: right;\">\n",
              "      <th></th>\n",
              "      <th>Open</th>\n",
              "      <th>High</th>\n",
              "      <th>Low</th>\n",
              "      <th>Close</th>\n",
              "      <th>rate_return</th>\n",
              "      <th>Volume</th>\n",
              "      <th>Split Ratio</th>\n",
              "    </tr>\n",
              "    <tr>\n",
              "      <th>Date</th>\n",
              "      <th></th>\n",
              "      <th></th>\n",
              "      <th></th>\n",
              "      <th></th>\n",
              "      <th></th>\n",
              "      <th></th>\n",
              "      <th></th>\n",
              "    </tr>\n",
              "  </thead>\n",
              "  <tbody>\n",
              "    <tr>\n",
              "      <th>2016-10-31</th>\n",
              "      <td>113.65</td>\n",
              "      <td>114.23</td>\n",
              "      <td>113.20</td>\n",
              "      <td>113.54</td>\n",
              "      <td>0.004334</td>\n",
              "      <td>26419398.0</td>\n",
              "      <td>1.0</td>\n",
              "    </tr>\n",
              "    <tr>\n",
              "      <th>2016-11-30</th>\n",
              "      <td>111.56</td>\n",
              "      <td>112.20</td>\n",
              "      <td>110.27</td>\n",
              "      <td>110.52</td>\n",
              "      <td>-0.026599</td>\n",
              "      <td>36162258.0</td>\n",
              "      <td>1.0</td>\n",
              "    </tr>\n",
              "    <tr>\n",
              "      <th>2016-12-31</th>\n",
              "      <td>116.65</td>\n",
              "      <td>117.20</td>\n",
              "      <td>115.43</td>\n",
              "      <td>115.82</td>\n",
              "      <td>0.047955</td>\n",
              "      <td>30586265.0</td>\n",
              "      <td>1.0</td>\n",
              "    </tr>\n",
              "  </tbody>\n",
              "</table>\n",
              "</div>"
            ],
            "text/plain": [
              "              Open    High     Low  ...  rate_return      Volume  Split Ratio\n",
              "Date                                ...                                      \n",
              "2016-10-31  113.65  114.23  113.20  ...     0.004334  26419398.0          1.0\n",
              "2016-11-30  111.56  112.20  110.27  ...    -0.026599  36162258.0          1.0\n",
              "2016-12-31  116.65  117.20  115.43  ...     0.047955  30586265.0          1.0\n",
              "\n",
              "[3 rows x 7 columns]"
            ]
          },
          "metadata": {
            "tags": []
          },
          "execution_count": 47
        }
      ]
    },
    {
      "cell_type": "markdown",
      "metadata": {
        "id": "CTApm66bcmAO"
      },
      "source": [
        "Only the intersection part was left if use 'inner join' method. Now let's try to append a DataFrame to another one:"
      ]
    },
    {
      "cell_type": "code",
      "metadata": {
        "colab": {
          "base_uri": "https://localhost:8080/",
          "height": 669
        },
        "id": "XFph-4jHc5zv",
        "outputId": "6932b40c-1011-486d-8f82-f18473686741"
      },
      "source": [
        "append = aapl_bar.append(df_2017)\n",
        "append"
      ],
      "execution_count": 48,
      "outputs": [
        {
          "output_type": "execute_result",
          "data": {
            "text/html": [
              "<div>\n",
              "<style scoped>\n",
              "    .dataframe tbody tr th:only-of-type {\n",
              "        vertical-align: middle;\n",
              "    }\n",
              "\n",
              "    .dataframe tbody tr th {\n",
              "        vertical-align: top;\n",
              "    }\n",
              "\n",
              "    .dataframe thead th {\n",
              "        text-align: right;\n",
              "    }\n",
              "</style>\n",
              "<table border=\"1\" class=\"dataframe\">\n",
              "  <thead>\n",
              "    <tr style=\"text-align: right;\">\n",
              "      <th></th>\n",
              "      <th>Open</th>\n",
              "      <th>High</th>\n",
              "      <th>Low</th>\n",
              "      <th>Close</th>\n",
              "      <th>rate_return</th>\n",
              "    </tr>\n",
              "    <tr>\n",
              "      <th>Date</th>\n",
              "      <th></th>\n",
              "      <th></th>\n",
              "      <th></th>\n",
              "      <th></th>\n",
              "      <th></th>\n",
              "    </tr>\n",
              "  </thead>\n",
              "  <tbody>\n",
              "    <tr>\n",
              "      <th>2016-01-31</th>\n",
              "      <td>94.79</td>\n",
              "      <td>97.3400</td>\n",
              "      <td>94.35</td>\n",
              "      <td>97.34</td>\n",
              "      <td>NaN</td>\n",
              "    </tr>\n",
              "    <tr>\n",
              "      <th>2016-02-29</th>\n",
              "      <td>96.86</td>\n",
              "      <td>98.2300</td>\n",
              "      <td>96.65</td>\n",
              "      <td>96.69</td>\n",
              "      <td>-0.006678</td>\n",
              "    </tr>\n",
              "    <tr>\n",
              "      <th>2016-03-31</th>\n",
              "      <td>109.72</td>\n",
              "      <td>109.9000</td>\n",
              "      <td>108.88</td>\n",
              "      <td>108.99</td>\n",
              "      <td>0.127211</td>\n",
              "    </tr>\n",
              "    <tr>\n",
              "      <th>2016-04-30</th>\n",
              "      <td>93.99</td>\n",
              "      <td>94.7200</td>\n",
              "      <td>92.51</td>\n",
              "      <td>93.74</td>\n",
              "      <td>-0.139921</td>\n",
              "    </tr>\n",
              "    <tr>\n",
              "      <th>2016-05-31</th>\n",
              "      <td>99.60</td>\n",
              "      <td>100.4000</td>\n",
              "      <td>98.82</td>\n",
              "      <td>99.86</td>\n",
              "      <td>0.065287</td>\n",
              "    </tr>\n",
              "    <tr>\n",
              "      <th>2016-06-30</th>\n",
              "      <td>94.44</td>\n",
              "      <td>95.7700</td>\n",
              "      <td>94.30</td>\n",
              "      <td>95.60</td>\n",
              "      <td>-0.042660</td>\n",
              "    </tr>\n",
              "    <tr>\n",
              "      <th>2016-07-31</th>\n",
              "      <td>104.19</td>\n",
              "      <td>104.5500</td>\n",
              "      <td>103.68</td>\n",
              "      <td>104.21</td>\n",
              "      <td>0.090063</td>\n",
              "    </tr>\n",
              "    <tr>\n",
              "      <th>2016-08-31</th>\n",
              "      <td>105.66</td>\n",
              "      <td>106.5699</td>\n",
              "      <td>105.64</td>\n",
              "      <td>106.10</td>\n",
              "      <td>0.018136</td>\n",
              "    </tr>\n",
              "    <tr>\n",
              "      <th>2016-09-30</th>\n",
              "      <td>112.46</td>\n",
              "      <td>113.3700</td>\n",
              "      <td>111.80</td>\n",
              "      <td>113.05</td>\n",
              "      <td>0.065504</td>\n",
              "    </tr>\n",
              "    <tr>\n",
              "      <th>2016-10-31</th>\n",
              "      <td>113.65</td>\n",
              "      <td>114.2300</td>\n",
              "      <td>113.20</td>\n",
              "      <td>113.54</td>\n",
              "      <td>0.004334</td>\n",
              "    </tr>\n",
              "    <tr>\n",
              "      <th>2016-11-30</th>\n",
              "      <td>111.56</td>\n",
              "      <td>112.2000</td>\n",
              "      <td>110.27</td>\n",
              "      <td>110.52</td>\n",
              "      <td>-0.026599</td>\n",
              "    </tr>\n",
              "    <tr>\n",
              "      <th>2016-12-31</th>\n",
              "      <td>116.65</td>\n",
              "      <td>117.2000</td>\n",
              "      <td>115.43</td>\n",
              "      <td>115.82</td>\n",
              "      <td>0.047955</td>\n",
              "    </tr>\n",
              "    <tr>\n",
              "      <th>2016-10-31</th>\n",
              "      <td>113.65</td>\n",
              "      <td>114.2300</td>\n",
              "      <td>113.20</td>\n",
              "      <td>113.54</td>\n",
              "      <td>NaN</td>\n",
              "    </tr>\n",
              "    <tr>\n",
              "      <th>2016-11-30</th>\n",
              "      <td>111.56</td>\n",
              "      <td>112.2000</td>\n",
              "      <td>110.27</td>\n",
              "      <td>110.52</td>\n",
              "      <td>NaN</td>\n",
              "    </tr>\n",
              "    <tr>\n",
              "      <th>2016-12-31</th>\n",
              "      <td>116.65</td>\n",
              "      <td>117.2000</td>\n",
              "      <td>115.43</td>\n",
              "      <td>115.82</td>\n",
              "      <td>NaN</td>\n",
              "    </tr>\n",
              "    <tr>\n",
              "      <th>2017-01-31</th>\n",
              "      <td>121.15</td>\n",
              "      <td>121.3900</td>\n",
              "      <td>120.62</td>\n",
              "      <td>121.35</td>\n",
              "      <td>NaN</td>\n",
              "    </tr>\n",
              "    <tr>\n",
              "      <th>2017-02-28</th>\n",
              "      <td>137.08</td>\n",
              "      <td>137.4350</td>\n",
              "      <td>136.70</td>\n",
              "      <td>136.99</td>\n",
              "      <td>NaN</td>\n",
              "    </tr>\n",
              "    <tr>\n",
              "      <th>2017-03-31</th>\n",
              "      <td>143.72</td>\n",
              "      <td>144.2700</td>\n",
              "      <td>143.01</td>\n",
              "      <td>143.66</td>\n",
              "      <td>NaN</td>\n",
              "    </tr>\n",
              "    <tr>\n",
              "      <th>2017-04-30</th>\n",
              "      <td>144.09</td>\n",
              "      <td>144.3000</td>\n",
              "      <td>143.27</td>\n",
              "      <td>143.65</td>\n",
              "      <td>NaN</td>\n",
              "    </tr>\n",
              "  </tbody>\n",
              "</table>\n",
              "</div>"
            ],
            "text/plain": [
              "              Open      High     Low   Close  rate_return\n",
              "Date                                                     \n",
              "2016-01-31   94.79   97.3400   94.35   97.34          NaN\n",
              "2016-02-29   96.86   98.2300   96.65   96.69    -0.006678\n",
              "2016-03-31  109.72  109.9000  108.88  108.99     0.127211\n",
              "2016-04-30   93.99   94.7200   92.51   93.74    -0.139921\n",
              "2016-05-31   99.60  100.4000   98.82   99.86     0.065287\n",
              "2016-06-30   94.44   95.7700   94.30   95.60    -0.042660\n",
              "2016-07-31  104.19  104.5500  103.68  104.21     0.090063\n",
              "2016-08-31  105.66  106.5699  105.64  106.10     0.018136\n",
              "2016-09-30  112.46  113.3700  111.80  113.05     0.065504\n",
              "2016-10-31  113.65  114.2300  113.20  113.54     0.004334\n",
              "2016-11-30  111.56  112.2000  110.27  110.52    -0.026599\n",
              "2016-12-31  116.65  117.2000  115.43  115.82     0.047955\n",
              "2016-10-31  113.65  114.2300  113.20  113.54          NaN\n",
              "2016-11-30  111.56  112.2000  110.27  110.52          NaN\n",
              "2016-12-31  116.65  117.2000  115.43  115.82          NaN\n",
              "2017-01-31  121.15  121.3900  120.62  121.35          NaN\n",
              "2017-02-28  137.08  137.4350  136.70  136.99          NaN\n",
              "2017-03-31  143.72  144.2700  143.01  143.66          NaN\n",
              "2017-04-30  144.09  144.3000  143.27  143.65          NaN"
            ]
          },
          "metadata": {
            "tags": []
          },
          "execution_count": 48
        }
      ]
    },
    {
      "cell_type": "markdown",
      "metadata": {
        "id": "LFDsTF-3c8jg"
      },
      "source": [
        "'`Append`' is essentially to concat two DataFrames by `axis = 0`, thus here is an alternative way to append:"
      ]
    },
    {
      "cell_type": "code",
      "metadata": {
        "colab": {
          "base_uri": "https://localhost:8080/",
          "height": 669
        },
        "id": "TRsOTIzedA9n",
        "outputId": "123ef256-4d3a-471d-8279-0f2a2d35d4ed"
      },
      "source": [
        "concat = pd.concat([aapl_bar, df_2017], axis = 0)\n",
        "concat"
      ],
      "execution_count": 49,
      "outputs": [
        {
          "output_type": "execute_result",
          "data": {
            "text/html": [
              "<div>\n",
              "<style scoped>\n",
              "    .dataframe tbody tr th:only-of-type {\n",
              "        vertical-align: middle;\n",
              "    }\n",
              "\n",
              "    .dataframe tbody tr th {\n",
              "        vertical-align: top;\n",
              "    }\n",
              "\n",
              "    .dataframe thead th {\n",
              "        text-align: right;\n",
              "    }\n",
              "</style>\n",
              "<table border=\"1\" class=\"dataframe\">\n",
              "  <thead>\n",
              "    <tr style=\"text-align: right;\">\n",
              "      <th></th>\n",
              "      <th>Open</th>\n",
              "      <th>High</th>\n",
              "      <th>Low</th>\n",
              "      <th>Close</th>\n",
              "      <th>rate_return</th>\n",
              "    </tr>\n",
              "    <tr>\n",
              "      <th>Date</th>\n",
              "      <th></th>\n",
              "      <th></th>\n",
              "      <th></th>\n",
              "      <th></th>\n",
              "      <th></th>\n",
              "    </tr>\n",
              "  </thead>\n",
              "  <tbody>\n",
              "    <tr>\n",
              "      <th>2016-01-31</th>\n",
              "      <td>94.79</td>\n",
              "      <td>97.3400</td>\n",
              "      <td>94.35</td>\n",
              "      <td>97.34</td>\n",
              "      <td>NaN</td>\n",
              "    </tr>\n",
              "    <tr>\n",
              "      <th>2016-02-29</th>\n",
              "      <td>96.86</td>\n",
              "      <td>98.2300</td>\n",
              "      <td>96.65</td>\n",
              "      <td>96.69</td>\n",
              "      <td>-0.006678</td>\n",
              "    </tr>\n",
              "    <tr>\n",
              "      <th>2016-03-31</th>\n",
              "      <td>109.72</td>\n",
              "      <td>109.9000</td>\n",
              "      <td>108.88</td>\n",
              "      <td>108.99</td>\n",
              "      <td>0.127211</td>\n",
              "    </tr>\n",
              "    <tr>\n",
              "      <th>2016-04-30</th>\n",
              "      <td>93.99</td>\n",
              "      <td>94.7200</td>\n",
              "      <td>92.51</td>\n",
              "      <td>93.74</td>\n",
              "      <td>-0.139921</td>\n",
              "    </tr>\n",
              "    <tr>\n",
              "      <th>2016-05-31</th>\n",
              "      <td>99.60</td>\n",
              "      <td>100.4000</td>\n",
              "      <td>98.82</td>\n",
              "      <td>99.86</td>\n",
              "      <td>0.065287</td>\n",
              "    </tr>\n",
              "    <tr>\n",
              "      <th>2016-06-30</th>\n",
              "      <td>94.44</td>\n",
              "      <td>95.7700</td>\n",
              "      <td>94.30</td>\n",
              "      <td>95.60</td>\n",
              "      <td>-0.042660</td>\n",
              "    </tr>\n",
              "    <tr>\n",
              "      <th>2016-07-31</th>\n",
              "      <td>104.19</td>\n",
              "      <td>104.5500</td>\n",
              "      <td>103.68</td>\n",
              "      <td>104.21</td>\n",
              "      <td>0.090063</td>\n",
              "    </tr>\n",
              "    <tr>\n",
              "      <th>2016-08-31</th>\n",
              "      <td>105.66</td>\n",
              "      <td>106.5699</td>\n",
              "      <td>105.64</td>\n",
              "      <td>106.10</td>\n",
              "      <td>0.018136</td>\n",
              "    </tr>\n",
              "    <tr>\n",
              "      <th>2016-09-30</th>\n",
              "      <td>112.46</td>\n",
              "      <td>113.3700</td>\n",
              "      <td>111.80</td>\n",
              "      <td>113.05</td>\n",
              "      <td>0.065504</td>\n",
              "    </tr>\n",
              "    <tr>\n",
              "      <th>2016-10-31</th>\n",
              "      <td>113.65</td>\n",
              "      <td>114.2300</td>\n",
              "      <td>113.20</td>\n",
              "      <td>113.54</td>\n",
              "      <td>0.004334</td>\n",
              "    </tr>\n",
              "    <tr>\n",
              "      <th>2016-11-30</th>\n",
              "      <td>111.56</td>\n",
              "      <td>112.2000</td>\n",
              "      <td>110.27</td>\n",
              "      <td>110.52</td>\n",
              "      <td>-0.026599</td>\n",
              "    </tr>\n",
              "    <tr>\n",
              "      <th>2016-12-31</th>\n",
              "      <td>116.65</td>\n",
              "      <td>117.2000</td>\n",
              "      <td>115.43</td>\n",
              "      <td>115.82</td>\n",
              "      <td>0.047955</td>\n",
              "    </tr>\n",
              "    <tr>\n",
              "      <th>2016-10-31</th>\n",
              "      <td>113.65</td>\n",
              "      <td>114.2300</td>\n",
              "      <td>113.20</td>\n",
              "      <td>113.54</td>\n",
              "      <td>NaN</td>\n",
              "    </tr>\n",
              "    <tr>\n",
              "      <th>2016-11-30</th>\n",
              "      <td>111.56</td>\n",
              "      <td>112.2000</td>\n",
              "      <td>110.27</td>\n",
              "      <td>110.52</td>\n",
              "      <td>NaN</td>\n",
              "    </tr>\n",
              "    <tr>\n",
              "      <th>2016-12-31</th>\n",
              "      <td>116.65</td>\n",
              "      <td>117.2000</td>\n",
              "      <td>115.43</td>\n",
              "      <td>115.82</td>\n",
              "      <td>NaN</td>\n",
              "    </tr>\n",
              "    <tr>\n",
              "      <th>2017-01-31</th>\n",
              "      <td>121.15</td>\n",
              "      <td>121.3900</td>\n",
              "      <td>120.62</td>\n",
              "      <td>121.35</td>\n",
              "      <td>NaN</td>\n",
              "    </tr>\n",
              "    <tr>\n",
              "      <th>2017-02-28</th>\n",
              "      <td>137.08</td>\n",
              "      <td>137.4350</td>\n",
              "      <td>136.70</td>\n",
              "      <td>136.99</td>\n",
              "      <td>NaN</td>\n",
              "    </tr>\n",
              "    <tr>\n",
              "      <th>2017-03-31</th>\n",
              "      <td>143.72</td>\n",
              "      <td>144.2700</td>\n",
              "      <td>143.01</td>\n",
              "      <td>143.66</td>\n",
              "      <td>NaN</td>\n",
              "    </tr>\n",
              "    <tr>\n",
              "      <th>2017-04-30</th>\n",
              "      <td>144.09</td>\n",
              "      <td>144.3000</td>\n",
              "      <td>143.27</td>\n",
              "      <td>143.65</td>\n",
              "      <td>NaN</td>\n",
              "    </tr>\n",
              "  </tbody>\n",
              "</table>\n",
              "</div>"
            ],
            "text/plain": [
              "              Open      High     Low   Close  rate_return\n",
              "Date                                                     \n",
              "2016-01-31   94.79   97.3400   94.35   97.34          NaN\n",
              "2016-02-29   96.86   98.2300   96.65   96.69    -0.006678\n",
              "2016-03-31  109.72  109.9000  108.88  108.99     0.127211\n",
              "2016-04-30   93.99   94.7200   92.51   93.74    -0.139921\n",
              "2016-05-31   99.60  100.4000   98.82   99.86     0.065287\n",
              "2016-06-30   94.44   95.7700   94.30   95.60    -0.042660\n",
              "2016-07-31  104.19  104.5500  103.68  104.21     0.090063\n",
              "2016-08-31  105.66  106.5699  105.64  106.10     0.018136\n",
              "2016-09-30  112.46  113.3700  111.80  113.05     0.065504\n",
              "2016-10-31  113.65  114.2300  113.20  113.54     0.004334\n",
              "2016-11-30  111.56  112.2000  110.27  110.52    -0.026599\n",
              "2016-12-31  116.65  117.2000  115.43  115.82     0.047955\n",
              "2016-10-31  113.65  114.2300  113.20  113.54          NaN\n",
              "2016-11-30  111.56  112.2000  110.27  110.52          NaN\n",
              "2016-12-31  116.65  117.2000  115.43  115.82          NaN\n",
              "2017-01-31  121.15  121.3900  120.62  121.35          NaN\n",
              "2017-02-28  137.08  137.4350  136.70  136.99          NaN\n",
              "2017-03-31  143.72  144.2700  143.01  143.66          NaN\n",
              "2017-04-30  144.09  144.3000  143.27  143.65          NaN"
            ]
          },
          "metadata": {
            "tags": []
          },
          "execution_count": 49
        }
      ]
    },
    {
      "cell_type": "markdown",
      "metadata": {
        "id": "hxZ1iczDdDZL"
      },
      "source": [
        "Please note that if the two DataFrame have some columns with the same column names, these columns are considered to be the same and will be merged. It's very important to have the right column names. If we change a column names here:"
      ]
    },
    {
      "cell_type": "code",
      "metadata": {
        "colab": {
          "base_uri": "https://localhost:8080/",
          "height": 669
        },
        "id": "ujMxCnzpdFx_",
        "outputId": "53fe036f-964f-4674-e297-c81f52a84630"
      },
      "source": [
        "df_2017.columns = ['Change', 'High', 'Low', 'Close']\n",
        "concat = pd.concat([aapl_bar, df_2017], axis = 0)\n",
        "concat"
      ],
      "execution_count": 50,
      "outputs": [
        {
          "output_type": "execute_result",
          "data": {
            "text/html": [
              "<div>\n",
              "<style scoped>\n",
              "    .dataframe tbody tr th:only-of-type {\n",
              "        vertical-align: middle;\n",
              "    }\n",
              "\n",
              "    .dataframe tbody tr th {\n",
              "        vertical-align: top;\n",
              "    }\n",
              "\n",
              "    .dataframe thead th {\n",
              "        text-align: right;\n",
              "    }\n",
              "</style>\n",
              "<table border=\"1\" class=\"dataframe\">\n",
              "  <thead>\n",
              "    <tr style=\"text-align: right;\">\n",
              "      <th></th>\n",
              "      <th>Open</th>\n",
              "      <th>High</th>\n",
              "      <th>Low</th>\n",
              "      <th>Close</th>\n",
              "      <th>rate_return</th>\n",
              "      <th>Change</th>\n",
              "    </tr>\n",
              "    <tr>\n",
              "      <th>Date</th>\n",
              "      <th></th>\n",
              "      <th></th>\n",
              "      <th></th>\n",
              "      <th></th>\n",
              "      <th></th>\n",
              "      <th></th>\n",
              "    </tr>\n",
              "  </thead>\n",
              "  <tbody>\n",
              "    <tr>\n",
              "      <th>2016-01-31</th>\n",
              "      <td>94.79</td>\n",
              "      <td>97.3400</td>\n",
              "      <td>94.35</td>\n",
              "      <td>97.34</td>\n",
              "      <td>NaN</td>\n",
              "      <td>NaN</td>\n",
              "    </tr>\n",
              "    <tr>\n",
              "      <th>2016-02-29</th>\n",
              "      <td>96.86</td>\n",
              "      <td>98.2300</td>\n",
              "      <td>96.65</td>\n",
              "      <td>96.69</td>\n",
              "      <td>-0.006678</td>\n",
              "      <td>NaN</td>\n",
              "    </tr>\n",
              "    <tr>\n",
              "      <th>2016-03-31</th>\n",
              "      <td>109.72</td>\n",
              "      <td>109.9000</td>\n",
              "      <td>108.88</td>\n",
              "      <td>108.99</td>\n",
              "      <td>0.127211</td>\n",
              "      <td>NaN</td>\n",
              "    </tr>\n",
              "    <tr>\n",
              "      <th>2016-04-30</th>\n",
              "      <td>93.99</td>\n",
              "      <td>94.7200</td>\n",
              "      <td>92.51</td>\n",
              "      <td>93.74</td>\n",
              "      <td>-0.139921</td>\n",
              "      <td>NaN</td>\n",
              "    </tr>\n",
              "    <tr>\n",
              "      <th>2016-05-31</th>\n",
              "      <td>99.60</td>\n",
              "      <td>100.4000</td>\n",
              "      <td>98.82</td>\n",
              "      <td>99.86</td>\n",
              "      <td>0.065287</td>\n",
              "      <td>NaN</td>\n",
              "    </tr>\n",
              "    <tr>\n",
              "      <th>2016-06-30</th>\n",
              "      <td>94.44</td>\n",
              "      <td>95.7700</td>\n",
              "      <td>94.30</td>\n",
              "      <td>95.60</td>\n",
              "      <td>-0.042660</td>\n",
              "      <td>NaN</td>\n",
              "    </tr>\n",
              "    <tr>\n",
              "      <th>2016-07-31</th>\n",
              "      <td>104.19</td>\n",
              "      <td>104.5500</td>\n",
              "      <td>103.68</td>\n",
              "      <td>104.21</td>\n",
              "      <td>0.090063</td>\n",
              "      <td>NaN</td>\n",
              "    </tr>\n",
              "    <tr>\n",
              "      <th>2016-08-31</th>\n",
              "      <td>105.66</td>\n",
              "      <td>106.5699</td>\n",
              "      <td>105.64</td>\n",
              "      <td>106.10</td>\n",
              "      <td>0.018136</td>\n",
              "      <td>NaN</td>\n",
              "    </tr>\n",
              "    <tr>\n",
              "      <th>2016-09-30</th>\n",
              "      <td>112.46</td>\n",
              "      <td>113.3700</td>\n",
              "      <td>111.80</td>\n",
              "      <td>113.05</td>\n",
              "      <td>0.065504</td>\n",
              "      <td>NaN</td>\n",
              "    </tr>\n",
              "    <tr>\n",
              "      <th>2016-10-31</th>\n",
              "      <td>113.65</td>\n",
              "      <td>114.2300</td>\n",
              "      <td>113.20</td>\n",
              "      <td>113.54</td>\n",
              "      <td>0.004334</td>\n",
              "      <td>NaN</td>\n",
              "    </tr>\n",
              "    <tr>\n",
              "      <th>2016-11-30</th>\n",
              "      <td>111.56</td>\n",
              "      <td>112.2000</td>\n",
              "      <td>110.27</td>\n",
              "      <td>110.52</td>\n",
              "      <td>-0.026599</td>\n",
              "      <td>NaN</td>\n",
              "    </tr>\n",
              "    <tr>\n",
              "      <th>2016-12-31</th>\n",
              "      <td>116.65</td>\n",
              "      <td>117.2000</td>\n",
              "      <td>115.43</td>\n",
              "      <td>115.82</td>\n",
              "      <td>0.047955</td>\n",
              "      <td>NaN</td>\n",
              "    </tr>\n",
              "    <tr>\n",
              "      <th>2016-10-31</th>\n",
              "      <td>NaN</td>\n",
              "      <td>114.2300</td>\n",
              "      <td>113.20</td>\n",
              "      <td>113.54</td>\n",
              "      <td>NaN</td>\n",
              "      <td>113.65</td>\n",
              "    </tr>\n",
              "    <tr>\n",
              "      <th>2016-11-30</th>\n",
              "      <td>NaN</td>\n",
              "      <td>112.2000</td>\n",
              "      <td>110.27</td>\n",
              "      <td>110.52</td>\n",
              "      <td>NaN</td>\n",
              "      <td>111.56</td>\n",
              "    </tr>\n",
              "    <tr>\n",
              "      <th>2016-12-31</th>\n",
              "      <td>NaN</td>\n",
              "      <td>117.2000</td>\n",
              "      <td>115.43</td>\n",
              "      <td>115.82</td>\n",
              "      <td>NaN</td>\n",
              "      <td>116.65</td>\n",
              "    </tr>\n",
              "    <tr>\n",
              "      <th>2017-01-31</th>\n",
              "      <td>NaN</td>\n",
              "      <td>121.3900</td>\n",
              "      <td>120.62</td>\n",
              "      <td>121.35</td>\n",
              "      <td>NaN</td>\n",
              "      <td>121.15</td>\n",
              "    </tr>\n",
              "    <tr>\n",
              "      <th>2017-02-28</th>\n",
              "      <td>NaN</td>\n",
              "      <td>137.4350</td>\n",
              "      <td>136.70</td>\n",
              "      <td>136.99</td>\n",
              "      <td>NaN</td>\n",
              "      <td>137.08</td>\n",
              "    </tr>\n",
              "    <tr>\n",
              "      <th>2017-03-31</th>\n",
              "      <td>NaN</td>\n",
              "      <td>144.2700</td>\n",
              "      <td>143.01</td>\n",
              "      <td>143.66</td>\n",
              "      <td>NaN</td>\n",
              "      <td>143.72</td>\n",
              "    </tr>\n",
              "    <tr>\n",
              "      <th>2017-04-30</th>\n",
              "      <td>NaN</td>\n",
              "      <td>144.3000</td>\n",
              "      <td>143.27</td>\n",
              "      <td>143.65</td>\n",
              "      <td>NaN</td>\n",
              "      <td>144.09</td>\n",
              "    </tr>\n",
              "  </tbody>\n",
              "</table>\n",
              "</div>"
            ],
            "text/plain": [
              "              Open      High     Low   Close  rate_return  Change\n",
              "Date                                                             \n",
              "2016-01-31   94.79   97.3400   94.35   97.34          NaN     NaN\n",
              "2016-02-29   96.86   98.2300   96.65   96.69    -0.006678     NaN\n",
              "2016-03-31  109.72  109.9000  108.88  108.99     0.127211     NaN\n",
              "2016-04-30   93.99   94.7200   92.51   93.74    -0.139921     NaN\n",
              "2016-05-31   99.60  100.4000   98.82   99.86     0.065287     NaN\n",
              "2016-06-30   94.44   95.7700   94.30   95.60    -0.042660     NaN\n",
              "2016-07-31  104.19  104.5500  103.68  104.21     0.090063     NaN\n",
              "2016-08-31  105.66  106.5699  105.64  106.10     0.018136     NaN\n",
              "2016-09-30  112.46  113.3700  111.80  113.05     0.065504     NaN\n",
              "2016-10-31  113.65  114.2300  113.20  113.54     0.004334     NaN\n",
              "2016-11-30  111.56  112.2000  110.27  110.52    -0.026599     NaN\n",
              "2016-12-31  116.65  117.2000  115.43  115.82     0.047955     NaN\n",
              "2016-10-31     NaN  114.2300  113.20  113.54          NaN  113.65\n",
              "2016-11-30     NaN  112.2000  110.27  110.52          NaN  111.56\n",
              "2016-12-31     NaN  117.2000  115.43  115.82          NaN  116.65\n",
              "2017-01-31     NaN  121.3900  120.62  121.35          NaN  121.15\n",
              "2017-02-28     NaN  137.4350  136.70  136.99          NaN  137.08\n",
              "2017-03-31     NaN  144.2700  143.01  143.66          NaN  143.72\n",
              "2017-04-30     NaN  144.3000  143.27  143.65          NaN  144.09"
            ]
          },
          "metadata": {
            "tags": []
          },
          "execution_count": 50
        }
      ]
    },
    {
      "cell_type": "markdown",
      "metadata": {
        "id": "A7x_LGR6fHfX"
      },
      "source": [
        "Since the column name of '`Open`' has been changed, the new DataFrame has an new column named '`Change`'."
      ]
    },
    {
      "cell_type": "markdown",
      "metadata": {
        "id": "efb6zw82T8b4"
      },
      "source": [
        "## Summary"
      ]
    },
    {
      "cell_type": "markdown",
      "metadata": {
        "id": "KWaoJvuVT-bq"
      },
      "source": [
        "Hereby we introduced the most import part of python: resampling and DataFrame manipulation. We only introduced the most commonly used method in Financial data analysis. There are also many methods used in data mining, which are also beneficial. You can always check the Pandas official documentations for help."
      ]
    }
  ]
}