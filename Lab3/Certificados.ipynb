{
  "nbformat": 4,
  "nbformat_minor": 0,
  "metadata": {
    "colab": {
      "name": "Certificados.ipynb",
      "provenance": []
    },
    "kernelspec": {
      "name": "python3",
      "display_name": "Python 3"
    },
    "language_info": {
      "name": "python"
    }
  },
  "cells": [
    {
      "cell_type": "markdown",
      "metadata": {
        "id": "oYGqEQuNaO3A"
      },
      "source": [
        "### APPLIED DATA SCIENCE WITH PYTHON"
      ]
    },
    {
      "cell_type": "markdown",
      "metadata": {
        "id": "svJopnDUalmC"
      },
      "source": [
        "Python 101 for data science: https://courses.cognitiveclass.ai/certificates/41fb34591fdf44f2a5e3c2b2569acbee\n",
        "\n",
        "Data visualization with python: https://courses.cognitiveclass.ai/certificates/8fb738eb11b247158227f607d0f92683\n",
        "\n",
        "Data analysis with python: https://courses.cognitiveclass.ai/certificates/2c9ca0c242c74f3b93477906e48285a9"
      ]
    }
  ]
}