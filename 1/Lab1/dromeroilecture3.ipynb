{
  "nbformat": 4,
  "nbformat_minor": 0,
  "metadata": {
    "kernelspec": {
      "name": "python3",
      "display_name": "Python 3"
    },
    "colab": {
      "name": "notebook_Lecture3.ipynb",
      "provenance": [],
      "collapsed_sections": [
        "bf07uikEH8CF"
      ]
    }
  },
  "cells": [
    {
      "cell_type": "markdown",
      "metadata": {
        "id": "XcOFeITSH8BT"
      },
      "source": [
        "# Introduction to NumPy\n",
        "by Maxwell Margenot\n",
        "\n",
        "Part of the Quantopian Lecture Series:\n",
        "\n",
        "* [www.quantopian.com/lectures](https://www.quantopian.com/lectures)\n",
        "* [github.com/quantopian/research_public](https://github.com/quantopian/research_public)\n",
        "\n",
        "Notebook released under the Creative Commons Attribution 4.0 License."
      ]
    },
    {
      "cell_type": "markdown",
      "metadata": {
        "id": "fIT_t6B8H8Be"
      },
      "source": [
        "NumPy is an incredibly powerful package in Python that is ubiquitous throughout the Quantopian platform. It has strong integration with Pandas, another tool we will be covering in the lecture series. NumPy adds support for multi-dimensional arrays and mathematical functions that allow you to easily perform linear algebra calculations. This lecture will be a collection of linear algebra examples computed using NumPy."
      ]
    },
    {
      "cell_type": "code",
      "metadata": {
        "collapsed": true,
        "id": "EMdMPD35H8Bf"
      },
      "source": [
        "import numpy as np\n",
        "import matplotlib.pyplot as plt"
      ],
      "execution_count": null,
      "outputs": []
    },
    {
      "cell_type": "markdown",
      "metadata": {
        "id": "epM7gXpaH8Bg"
      },
      "source": [
        "### Basic NumPy arrays"
      ]
    },
    {
      "cell_type": "markdown",
      "metadata": {
        "id": "R-mY2lOeH8Bg"
      },
      "source": [
        "The most basic way that we could make use of NumPy in finance is calculating the mean return of a portfolio. Say that we have a list containing the historical return of several stocks."
      ]
    },
    {
      "cell_type": "code",
      "metadata": {
        "collapsed": true,
        "id": "7fCFKUY1H8Bh"
      },
      "source": [
        "stock_list = [3.5, 5, 2, 8, 4.2]"
      ],
      "execution_count": null,
      "outputs": []
    },
    {
      "cell_type": "markdown",
      "metadata": {
        "id": "Kg123EznH8Bh"
      },
      "source": [
        "We can make an array by calling a function on the list:"
      ]
    },
    {
      "cell_type": "code",
      "metadata": {
        "colab": {
          "base_uri": "https://localhost:8080/"
        },
        "id": "ToZtLXV_H8Bh",
        "outputId": "4f25c39b-b9d8-43e8-ad31-fd091ecc543e"
      },
      "source": [
        "returns = np.array(stock_list)\n",
        "print (returns, type(returns))"
      ],
      "execution_count": null,
      "outputs": [
        {
          "output_type": "stream",
          "text": [
            "[3.5 5.  2.  8.  4.2] <class 'numpy.ndarray'>\n"
          ],
          "name": "stdout"
        }
      ]
    },
    {
      "cell_type": "markdown",
      "metadata": {
        "id": "oMU3PkAXH8Bj"
      },
      "source": [
        "You'll notice that the type of our array is 'ndarray', not just 'array'. This is because NumPy arrays can be created with multiple dimensions. If we pass np.array() a list of lists, it will create a 2-dimensional array. If we pass a list of lists of lists, it will create a 3-dimensional array, and so on and so forth."
      ]
    },
    {
      "cell_type": "code",
      "metadata": {
        "colab": {
          "base_uri": "https://localhost:8080/"
        },
        "id": "feVeCnOaH8Bj",
        "outputId": "9569fc7c-e250-4a04-d0a3-775d24f07a7a"
      },
      "source": [
        "A = np.array([[1, 2], [3, 4]])\n",
        "print (A, type(A))"
      ],
      "execution_count": null,
      "outputs": [
        {
          "output_type": "stream",
          "text": [
            "[[1 2]\n",
            " [3 4]] <class 'numpy.ndarray'>\n"
          ],
          "name": "stdout"
        }
      ]
    },
    {
      "cell_type": "markdown",
      "metadata": {
        "id": "X_IVOoLnH8Bk"
      },
      "source": [
        "We can access the dimensions of an array by looking at its `shape` member variable."
      ]
    },
    {
      "cell_type": "code",
      "metadata": {
        "colab": {
          "base_uri": "https://localhost:8080/"
        },
        "id": "tK3_coh_H8Bk",
        "outputId": "30f9da52-b398-4f29-9026-a48853e07155"
      },
      "source": [
        "print (A.shape)"
      ],
      "execution_count": null,
      "outputs": [
        {
          "output_type": "stream",
          "text": [
            "(2, 2)\n"
          ],
          "name": "stdout"
        }
      ]
    },
    {
      "cell_type": "markdown",
      "metadata": {
        "id": "4-03tXWCH8Bl"
      },
      "source": [
        "Arrays are indexed in much the same way as lists in Python. Elements of a list begin indexing from $0$ and end at $n - 1$, where $n$ is the length of the array."
      ]
    },
    {
      "cell_type": "code",
      "metadata": {
        "colab": {
          "base_uri": "https://localhost:8080/"
        },
        "id": "E24-hO5IH8Bm",
        "outputId": "1f33689e-6fac-43e9-f24f-39d1b6837af3"
      },
      "source": [
        "print (returns[0], returns[len(returns) - 1])"
      ],
      "execution_count": null,
      "outputs": [
        {
          "output_type": "stream",
          "text": [
            "3.5 4.2\n"
          ],
          "name": "stdout"
        }
      ]
    },
    {
      "cell_type": "markdown",
      "metadata": {
        "id": "6r_xfktkH8Bn"
      },
      "source": [
        "We can take a slice of an array using a colon, just like in a list."
      ]
    },
    {
      "cell_type": "code",
      "metadata": {
        "id": "f-rRQduKH8Bn",
        "outputId": "b730b197-9a70-4d47-e377-b59bd403fdfe"
      },
      "source": [
        "print (returns[1:3])"
      ],
      "execution_count": null,
      "outputs": [
        {
          "output_type": "stream",
          "text": [
            "[ 5.  2.]\n"
          ],
          "name": "stdout"
        }
      ]
    },
    {
      "cell_type": "markdown",
      "metadata": {
        "id": "vd0l9mcZH8Bp"
      },
      "source": [
        "A slice of an array, like in a list, will select a group of elements in the array starting from the first element indicated and going up to (but not including) the last element indicated.\n",
        "\n",
        "In the case of multidimensional arrays, many of the same conventions with slicing and indexing hold. We can access the first column of a 2-dimensional array like so:"
      ]
    },
    {
      "cell_type": "code",
      "metadata": {
        "id": "deBNh0MGH8Bq",
        "outputId": "cb3709b7-2186-4598-e2c6-18aab632671e"
      },
      "source": [
        "print (A[:, 0])"
      ],
      "execution_count": null,
      "outputs": [
        {
          "output_type": "stream",
          "text": [
            "[1 3]\n"
          ],
          "name": "stdout"
        }
      ]
    },
    {
      "cell_type": "markdown",
      "metadata": {
        "id": "xyTKZjvBH8Br"
      },
      "source": [
        "And the first row of a 2-dimensional array like so:"
      ]
    },
    {
      "cell_type": "code",
      "metadata": {
        "colab": {
          "base_uri": "https://localhost:8080/"
        },
        "id": "yFdezBP_H8Bt",
        "outputId": "3f230a97-ad66-448b-c293-089bcbc78bf8"
      },
      "source": [
        "print (A[0, :])"
      ],
      "execution_count": null,
      "outputs": [
        {
          "output_type": "stream",
          "text": [
            "[1 2]\n"
          ],
          "name": "stdout"
        }
      ]
    },
    {
      "cell_type": "markdown",
      "metadata": {
        "id": "N6PyQFNCH8Bt"
      },
      "source": [
        "Notice that each slice of the array returns yet another array!"
      ]
    },
    {
      "cell_type": "code",
      "metadata": {
        "colab": {
          "base_uri": "https://localhost:8080/"
        },
        "id": "b3h-BpHRH8Bu",
        "outputId": "cae7037c-962a-4e72-adc9-715226e2a679"
      },
      "source": [
        "print (type(A[0,:]))"
      ],
      "execution_count": null,
      "outputs": [
        {
          "output_type": "stream",
          "text": [
            "<class 'numpy.ndarray'>\n"
          ],
          "name": "stdout"
        }
      ]
    },
    {
      "cell_type": "markdown",
      "metadata": {
        "id": "EqBrwwg3H8Bu"
      },
      "source": [
        "Passing only one index to a 2-dimensional array will result in returning the row with the given index as well, providing us with another way to access individual rows."
      ]
    },
    {
      "cell_type": "code",
      "metadata": {
        "colab": {
          "base_uri": "https://localhost:8080/"
        },
        "id": "UqwwXfIyH8Bx",
        "outputId": "dd52e06e-0777-453f-ccc5-cf9f5726fdeb"
      },
      "source": [
        "print (A[0])"
      ],
      "execution_count": null,
      "outputs": [
        {
          "output_type": "stream",
          "text": [
            "[1 2]\n"
          ],
          "name": "stdout"
        }
      ]
    },
    {
      "cell_type": "markdown",
      "metadata": {
        "id": "7tvkrtqSH8By"
      },
      "source": [
        "Accessing the index of an individual element will return only the element."
      ]
    },
    {
      "cell_type": "code",
      "metadata": {
        "colab": {
          "base_uri": "https://localhost:8080/"
        },
        "id": "7n-y3VZtH8By",
        "outputId": "f132c879-0f25-420e-ad4f-bd1001d39a00"
      },
      "source": [
        "print (A[1, 1])"
      ],
      "execution_count": null,
      "outputs": [
        {
          "output_type": "stream",
          "text": [
            "4\n"
          ],
          "name": "stdout"
        }
      ]
    },
    {
      "cell_type": "markdown",
      "metadata": {
        "id": "j8YR40ymH8By"
      },
      "source": [
        "#### Array functions\n",
        "\n",
        "Functions built into NumPy can be easily called on arrays. Most functions are applied to an array element-wise (as scalar multiplication is). For example, if we call `log()` on an array, the logarithm will be taken of each element."
      ]
    },
    {
      "cell_type": "code",
      "metadata": {
        "id": "FziGvjCJH8By",
        "outputId": "5ea2909c-1702-4db8-e8d5-691be99f7a85"
      },
      "source": [
        "print (np.log(returns))"
      ],
      "execution_count": null,
      "outputs": [
        {
          "output_type": "stream",
          "text": [
            "[ 1.25276297  1.60943791  0.69314718  2.07944154  1.43508453]\n"
          ],
          "name": "stdout"
        }
      ]
    },
    {
      "cell_type": "markdown",
      "metadata": {
        "id": "MMQ0Pab5H8Bz"
      },
      "source": [
        "Some functions return a single value. This is because they treat the array as a collection (similar to a list), performing the designated function. For example, the `mean()` function will do exactly what you expect, calculating the mean of an array."
      ]
    },
    {
      "cell_type": "code",
      "metadata": {
        "id": "4Bb-Ia24H8Bz",
        "outputId": "14670aa8-9580-4ba2-aead-2e0f741e107b"
      },
      "source": [
        "print( np.mean(returns))"
      ],
      "execution_count": null,
      "outputs": [
        {
          "output_type": "stream",
          "text": [
            "4.54\n"
          ],
          "name": "stdout"
        }
      ]
    },
    {
      "cell_type": "markdown",
      "metadata": {
        "id": "5t2lrzvrH8Bz"
      },
      "source": [
        "Or the `max()` function will return the maximum element of an array."
      ]
    },
    {
      "cell_type": "code",
      "metadata": {
        "id": "qLDyZGS9H8B0",
        "outputId": "02f8527d-c4aa-4424-f34e-bbca0bbf2055"
      },
      "source": [
        "print np.max(returns)"
      ],
      "execution_count": null,
      "outputs": [
        {
          "output_type": "stream",
          "text": [
            "8.0\n"
          ],
          "name": "stdout"
        }
      ]
    },
    {
      "cell_type": "markdown",
      "metadata": {
        "id": "xAfT6DcHH8B0"
      },
      "source": [
        "For further reading on the universal functions in NumPy, check out the [documentation](https://docs.scipy.org/doc/numpy/user/quickstart.html#universal-functions)."
      ]
    },
    {
      "cell_type": "markdown",
      "metadata": {
        "id": "-c6klHqaH8B0"
      },
      "source": [
        "### Return to the returns\n",
        "\n",
        "Now let's modify our returns array with scalar values. If we add a scalar value to an array it will be added to every element of the array. If we multiply an array by a scalar value it will be multiplied against every element of the array. If we do both, both will happen!"
      ]
    },
    {
      "cell_type": "code",
      "metadata": {
        "scrolled": false,
        "colab": {
          "base_uri": "https://localhost:8080/"
        },
        "id": "07b_2l_zH8B1",
        "outputId": "3b34c5a2-4b81-41c2-8855-4e09d1c0fe40"
      },
      "source": [
        "returns*2 + 5"
      ],
      "execution_count": null,
      "outputs": [
        {
          "output_type": "execute_result",
          "data": {
            "text/plain": [
              "array([12. , 15. ,  9. , 21. , 13.4])"
            ]
          },
          "metadata": {
            "tags": []
          },
          "execution_count": 14
        }
      ]
    },
    {
      "cell_type": "markdown",
      "metadata": {
        "id": "zD74W6NuHU_9"
      },
      "source": [
        ""
      ]
    },
    {
      "cell_type": "markdown",
      "metadata": {
        "id": "-WPE1Ub_H8B1"
      },
      "source": [
        "NumPy also has functions specifically built to operate on arrays. Let's take the mean and standard deviation of this group of returns."
      ]
    },
    {
      "cell_type": "code",
      "metadata": {
        "colab": {
          "base_uri": "https://localhost:8080/"
        },
        "id": "uFxvPAmfH8B1",
        "outputId": "4c7499b3-8a64-44bd-c304-ad2e6d30d2d7"
      },
      "source": [
        "print (\"Mean: \", np.mean(returns), \"Std Dev: \", np.std(returns))"
      ],
      "execution_count": null,
      "outputs": [
        {
          "output_type": "stream",
          "text": [
            "Mean:  4.54 Std Dev:  1.9915822855207364\n"
          ],
          "name": "stdout"
        }
      ]
    },
    {
      "cell_type": "markdown",
      "metadata": {
        "id": "9bhwQDmEH8B2"
      },
      "source": [
        "Let's simulate a universe of stocks using NumPy's functions. First we need to create the arrays to hold the assets and returns that we will use to build a portfolio. This is because arrays are created with a fixed size. Their dimensions can't be changed without creating a new array."
      ]
    },
    {
      "cell_type": "code",
      "metadata": {
        "collapsed": true,
        "id": "FAtCQRuLH8B2"
      },
      "source": [
        "N = 10\n",
        "assets = np.zeros((N, 100))\n",
        "returns = np.zeros((N, 100))"
      ],
      "execution_count": null,
      "outputs": []
    },
    {
      "cell_type": "markdown",
      "metadata": {
        "id": "v7NUQww2H8B2"
      },
      "source": [
        "This function, `zeroes()`, creates a NumPy array with the given dimensions that is entirely filled in with $0$. We can pass a single value or a tuple of as many dimensions as we like. Passing in the tuple `(N, 100)`, will return a two-dimensional array with $N$ rows and $100$ columns. Our result is a $N \\times 100$ array.\n",
        "\n",
        "Now we will simulate a base asset. We want the universe of stocks to be correlated with each other so we will use this initial value to generate the others."
      ]
    },
    {
      "cell_type": "code",
      "metadata": {
        "id": "FWlMhOWEH8B2"
      },
      "source": [
        "R_1 = np.random.normal(1.01, 0.03, 100)\n",
        "returns[0] = R_1\n",
        "assets[0] = np.cumprod(R_1)"
      ],
      "execution_count": null,
      "outputs": []
    },
    {
      "cell_type": "markdown",
      "metadata": {
        "id": "SgF_isJLH8B3"
      },
      "source": [
        "The `random` module in NumPy is exceedingly useful. It contains methods for sampling from many different probability distributions, some of which are covered in the [random variables lecture](https://www.quantopian.com/lectures/random-variables) in the Quantopian lecture series. In this case we draw $N = 100$ random samples from a normal distribution with mean $1.01$ and standard deviation $0.03$. We treat these as the daily percentage returns of our asset and take the cumulative product of these samples to get the current price.\n",
        "\n",
        "The way we have generated our universe, the the individual $R_i$ vectors are each 1-dimensional arrays and the `returns` and `assets` variables contain 2-dimensional arrays. Above, we set the initial row of both `returns` and `assets` to be the first $R_i$ vector and the cumulative asset price based on those returns, respectively.\n",
        "\n",
        "We will now use this base asset to create a few other random assets that are correlated with it."
      ]
    },
    {
      "cell_type": "code",
      "metadata": {
        "id": "bhGngLoCH8B3"
      },
      "source": [
        "# Generate assets that are correlated with R_1\n",
        "for i in range(1, N):\n",
        "    R_i = R_1 + np.random.normal(0.001, 0.02, 100)\n",
        "    returns[i] = R_i # Set each row of returns equal to the new R_i array\n",
        "    assets[i] = np.cumprod(R_i)\n",
        "    \n",
        "mean_returns = [(np.mean(R) - 1)*100 for R in returns]\n",
        "return_volatilities = [np.std(R) for R in returns]"
      ],
      "execution_count": null,
      "outputs": []
    },
    {
      "cell_type": "markdown",
      "metadata": {
        "id": "MXbyiJZoH8B3"
      },
      "source": [
        "Here we generate the remaining $N - 1$ securities that we want in our universe by adding random noise to $R_1$. This ensures that our $N - 1$ other assets will be correlated with the base asset because they have some underlying information that is shared.\n",
        "\n",
        "Let's plot what the mean return of each asset looks like:"
      ]
    },
    {
      "cell_type": "code",
      "metadata": {
        "scrolled": false,
        "colab": {
          "base_uri": "https://localhost:8080/",
          "height": 295
        },
        "id": "X7h034SaH8B4",
        "outputId": "a9f7be40-4e0d-42ac-f0ad-1c34e31a5f99"
      },
      "source": [
        "plt.bar(np.arange(len(mean_returns)), mean_returns)\n",
        "plt.xlabel('Stock')\n",
        "plt.ylabel('Returns')\n",
        "plt.title('Returns for {0} Random Assets'.format(N));"
      ],
      "execution_count": null,
      "outputs": [
        {
          "output_type": "display_data",
          "data": {
            "image/png": "[encoded data removed]",
            "text/plain": [
              "<Figure size 432x288 with 1 Axes>"
            ]
          },
          "metadata": {
            "tags": [],
            "needs_background": "light"
          }
        }
      ]
    },
    {
      "cell_type": "markdown",
      "metadata": {
        "id": "YRhrfJb-H8B6"
      },
      "source": [
        "### Calculating Expected Return\n",
        "\n",
        "So we have a universe of stocks. Great! Now let's put them together in a portfolio and calculate its expected return and risk.\n",
        "\n",
        "We will start off by generating $N$ random weights for each asset in our portfolio."
      ]
    },
    {
      "cell_type": "code",
      "metadata": {
        "id": "UZnj8pNYH8B7"
      },
      "source": [
        "weights = np.random.uniform(0, 1, N)\n",
        "weights = weights/np.sum(weights)"
      ],
      "execution_count": null,
      "outputs": []
    },
    {
      "cell_type": "markdown",
      "metadata": {
        "id": "riprcTtKH8B8"
      },
      "source": [
        "We have to rescale the weights so that they all add up to $1$. We do this by scaling the weights vector by the sum total of all the weights. This step ensures that we will be using $100\\%$ of the portfolio's cash.\n",
        "\n",
        "To calculate the mean return of the portfolio, we have to scale each asset's return by its designated weight. We can pull each element of each array and multiply them individually, but it's quicker to use NumPy's linear algebra methods. The function that we want is `dot()`. This will calculate the dot product between two arrays for us. So if $v = \\left[ 1, 2, 3 \\right]$ and $w = \\left[4, 5, 6 \\right]$, then:\n",
        "\n",
        "$$ v \\cdot w = 1 \\times 4 + 2 \\times 5 + 3 \\times 6 $$\n",
        "\n",
        "For a one-dimensional vector, the dot product will multiply each element pointwise and add all the products together! In our case, we have a vector of weights, $\\omega = \\left[ \\omega_1, \\omega_2, \\dots \\omega_N\\right]$ and a vector of returns, $\\mu = \\left[ \\mu_1, \\mu_2, \\dots, \\mu_N\\right]$. If we take the dot product of these two we will get:\n",
        "\n",
        "$$ \\omega \\cdot \\mu = \\omega_1\\mu_1 + \\omega_2\\mu_2 + \\dots + \\omega_N\\mu_N = \\mu_P $$\n",
        "\n",
        "This yields the sum of all the asset returns scaled by their respective weights. This the the portfolio's overall expected return!"
      ]
    },
    {
      "cell_type": "code",
      "metadata": {
        "colab": {
          "base_uri": "https://localhost:8080/"
        },
        "id": "_Ao7Po_xH8B8",
        "outputId": "1fb24b4b-e3c2-4dde-d621-598a9ed4038e"
      },
      "source": [
        "p_returns = np.dot(weights, mean_returns)\n",
        "print (\"Expected return of the portfolio: \", p_returns)"
      ],
      "execution_count": null,
      "outputs": [
        {
          "output_type": "stream",
          "text": [
            "Expected return of the portfolio:  1.5173775686954445\n"
          ],
          "name": "stdout"
        }
      ]
    },
    {
      "cell_type": "markdown",
      "metadata": {
        "id": "Y36p2cUPH8B9"
      },
      "source": [
        "Calculating the mean return is fairly intuitive and does not require too much explanation of linear algebra. However, calculating the variance of our portfolio requires a bit more background."
      ]
    },
    {
      "cell_type": "markdown",
      "metadata": {
        "id": "HX7GwpE2H8B-"
      },
      "source": [
        "#### Beware of NaN values\n",
        "\n",
        "Most of the time, all of these calculations will work without an issue. However, when working with real data we run the risk of having `nan` values in our arrays. This is NumPy's way of saying that the data there is missing or doesn't exist. These `nan` values can lead to errors in mathematical calculations so it is important to be aware of whether your array contains `nan` values and to know how to drop them."
      ]
    },
    {
      "cell_type": "code",
      "metadata": {
        "colab": {
          "base_uri": "https://localhost:8080/"
        },
        "id": "iOPnhQFhH8B-",
        "outputId": "fdf995ab-a921-4c5c-afeb-937ea157dbea"
      },
      "source": [
        "v = np.array([1, 2, np.nan, 4, 5])\n",
        "print (v)"
      ],
      "execution_count": null,
      "outputs": [
        {
          "output_type": "stream",
          "text": [
            "[ 1.  2. nan  4.  5.]\n"
          ],
          "name": "stdout"
        }
      ]
    },
    {
      "cell_type": "markdown",
      "metadata": {
        "id": "LOzSG7x8H8B_"
      },
      "source": [
        "Let's see what happens when we try to take the mean of this array."
      ]
    },
    {
      "cell_type": "code",
      "metadata": {
        "colab": {
          "base_uri": "https://localhost:8080/"
        },
        "id": "yKhraSDqH8CA",
        "outputId": "4728510b-4976-4028-be6f-b464a6d5c686"
      },
      "source": [
        "print (np.mean(v))"
      ],
      "execution_count": null,
      "outputs": [
        {
          "output_type": "stream",
          "text": [
            "nan\n"
          ],
          "name": "stdout"
        }
      ]
    },
    {
      "cell_type": "markdown",
      "metadata": {
        "id": "UNpEhYdFH8CA"
      },
      "source": [
        "Clearly, `nan` values can have a large impact on our calculations. Fortunately, we can check for `nan` values with the `isnan()` function."
      ]
    },
    {
      "cell_type": "code",
      "metadata": {
        "colab": {
          "base_uri": "https://localhost:8080/"
        },
        "id": "0n3dP6fmH8CA",
        "outputId": "4271176b-8a70-4ec0-83cc-153abb7c6882"
      },
      "source": [
        "np.isnan(v)"
      ],
      "execution_count": null,
      "outputs": [
        {
          "output_type": "execute_result",
          "data": {
            "text/plain": [
              "array([False, False,  True, False, False])"
            ]
          },
          "metadata": {
            "tags": []
          },
          "execution_count": 28
        }
      ]
    },
    {
      "cell_type": "markdown",
      "metadata": {
        "id": "d5hbDTFGH8CB"
      },
      "source": [
        "Calling `isnan()` on an array will call the function on each value of the array, returning a value of `True` if the element is `nan` and `False` if the element is valid. Now, knowing whether your array contains `nan` values is all well and good, but how do we remove `nan`s? Handily enough, NumPy arrays can be indexed by boolean values (`True` or `False`). If we use a boolean array to index an array, we will remove all values of the array that register as `False` under the condition. We use the `isnan()` function in create a boolean array, assigning a `True` value to everything that is *not* `nan` and a `False` to the `nan`s and we use that to index the same array."
      ]
    },
    {
      "cell_type": "code",
      "metadata": {
        "colab": {
          "base_uri": "https://localhost:8080/"
        },
        "id": "cr3QQdoFH8CC",
        "outputId": "5b8fb2ac-d007-4f9b-c6cf-900955552d49"
      },
      "source": [
        "ix = ~np.isnan(v) # the ~ indicates a logical not, inverting the bools\n",
        "print (v[ix]) # We can also just write v = v[~np.isnan(v)]"
      ],
      "execution_count": null,
      "outputs": [
        {
          "output_type": "stream",
          "text": [
            "[1. 2. 4. 5.]\n"
          ],
          "name": "stdout"
        }
      ]
    },
    {
      "cell_type": "code",
      "metadata": {
        "colab": {
          "base_uri": "https://localhost:8080/"
        },
        "id": "74kUfhXdH8CD",
        "outputId": "1841bd3f-b12c-46cd-cdea-27da33bbd3b7"
      },
      "source": [
        "print (np.mean(v[ix]))"
      ],
      "execution_count": null,
      "outputs": [
        {
          "output_type": "stream",
          "text": [
            "3.0\n"
          ],
          "name": "stdout"
        }
      ]
    },
    {
      "cell_type": "markdown",
      "metadata": {
        "id": "idJS3wboH8CD"
      },
      "source": [
        "There are a few shortcuts to this process in the form of NumPy functions specifically built to handle them, such as `nanmean()`."
      ]
    },
    {
      "cell_type": "code",
      "metadata": {
        "id": "VPuyNqhDH8CE",
        "outputId": "17217c8f-ec98-4ae2-831c-fada08aca602"
      },
      "source": [
        "print np.nanmean(v)"
      ],
      "execution_count": null,
      "outputs": [
        {
          "output_type": "stream",
          "text": [
            "3.0\n"
          ],
          "name": "stdout"
        }
      ]
    },
    {
      "cell_type": "markdown",
      "metadata": {
        "id": "RFv9Gci1H8CE"
      },
      "source": [
        "The `nanmean()` function simply calculates the mean of the array as if there were no `nan` values at all! There are a few more of these functions, so feel free to read more about them in the [documentation](https://docs.scipy.org/doc/numpy/user/index.html). These indeterminate values are more an issue with data than linear algebra itself so it is helpful that there are ways to handle them."
      ]
    },
    {
      "cell_type": "markdown",
      "metadata": {
        "id": "bf07uikEH8CF"
      },
      "source": [
        "### Conclusion\n",
        "\n",
        "Linear algebra is pervasive in finance and in general. For example, the calculation of *optimal* weights according to modern portfolio theory is done using linear algebra techniques. The arrays and functions in NumPy allow us to handle these calculations in an intuitive way. For a quick intro to linear algebra and how to use NumPy to do more significant matrix calculations, proceed to the next section."
      ]
    },
    {
      "cell_type": "markdown",
      "metadata": {
        "id": "FkJsdBQQH8CF"
      },
      "source": [
        "## A brief foray into linear algebra\n",
        "\n",
        "Let's start with a basic overview of some linear algebra. Linear algebra comes down to the multiplication and composition of scalar and matrix values. A scalar value is just a real number that we multiply against an array. When we scale a matrix or array using a scalar, we multiply each individual element of that matrix or array by the scalar.\n",
        "\n",
        "A matrix is a collection of values, typically represented by an $m \\times n$ grid, where $m$ is the number of rows and $n$ is the number of columns. The edge lengths $m$ and $n$ do not necessarily have to be different. If we have $m = n$, we call this a square matrix. A particularly interesting case of a matrix is when $m = 1$ or $n = 1$. In this case we have a special case of a matrix that we call a vector. While there is a matrix object in NumPy we will be doing everything using NumPy arrays because they can have dimensions greater than $2$. For the purpose of this section, we will be using matrix and array interchangeably.\n",
        "\n",
        "We can express the matrix equation as:\n",
        "\n",
        "$$ y = A\\cdot x $$\n",
        "\n",
        "Where $A$ is an $m \\times n$ matrix, $y$ is a $m \\times 1$ vector, and $x$ is a $n \\times 1$ vector. On the right-hand side of the equation we are multiplying a matrix by a vector. This requires a little bit more clarification, lest we think that we can go about multiplying any matrices by any other matrices.\n",
        "\n",
        "#### Matrix multiplication\n",
        "\n",
        "With matrix multiplication, the order in which the matrices are multiplied matters. Multiplying a matrix on the left side by another matrix may be just fine, but multiplying on the right may be undefined."
      ]
    },
    {
      "cell_type": "code",
      "metadata": {
        "collapsed": true,
        "id": "clFDy8taH8CG"
      },
      "source": [
        "A = np.array([\n",
        "        [1, 2, 3, 12, 6],\n",
        "        [4, 5, 6, 15, 20],\n",
        "        [7, 8, 9, 10, 10]        \n",
        "    ])\n",
        "B = np.array([\n",
        "        [4, 4, 2],\n",
        "        [2, 3, 1],\n",
        "        [6, 5, 8],\n",
        "        [9, 9, 9]\n",
        "    ])"
      ],
      "execution_count": null,
      "outputs": []
    },
    {
      "cell_type": "markdown",
      "metadata": {
        "id": "A1HYUkZoH8CG"
      },
      "source": [
        "Notice that the above-defined matrices, $A$ and $B$, have different dimensions. $A$ is $3 \\times 5$ and $B$ is $4 \\times 3$. The general rule of what can and cannot be multiplied in which order is based on the dimensions of the matrices. Specifically, the number of columns in the matrix on the left must be equal to the number of rows in the matrix on the right. In super informal terms, let's say that we have an $m \\times n$ matrix and a $p \\times q$ matrix. If we multiply the first by the second on the right, we get the following:\n",
        "\n",
        "$$ (m \\times n) \\cdot (p \\times q) = (m \\times q) $$\n",
        "\n",
        "So the resultant product has the same number of rows as the left matrix and the same number of columns as the right matrix. This limitation of matrix multiplication with regards to dimensions is important to keep track of when writing code. To demonstrate this, we use the `dot()` function to multiply our matrices below:"
      ]
    },
    {
      "cell_type": "code",
      "metadata": {
        "colab": {
          "base_uri": "https://localhost:8080/",
          "height": 197
        },
        "id": "n96MBcVyH8CG",
        "outputId": "5666bfca-5e2b-46fa-9d77-9559b3a6f6c8"
      },
      "source": [
        "print (np.dot(A, B))"
      ],
      "execution_count": null,
      "outputs": [
        {
          "output_type": "error",
          "ename": "ValueError",
          "evalue": "ignored",
          "traceback": [
            "\u001b[0;31m---------------------------------------------------------------------------\u001b[0m",
            "\u001b[0;31mValueError\u001b[0m                                Traceback (most recent call last)",
            "\u001b[0;32m<ipython-input-37-39086c8c885f>\u001b[0m in \u001b[0;36m<module>\u001b[0;34m()\u001b[0m\n\u001b[0;32m----> 1\u001b[0;31m \u001b[0mprint\u001b[0m \u001b[0;34m(\u001b[0m\u001b[0mnp\u001b[0m\u001b[0;34m.\u001b[0m\u001b[0mdot\u001b[0m\u001b[0;34m(\u001b[0m\u001b[0mA\u001b[0m\u001b[0;34m,\u001b[0m \u001b[0mB\u001b[0m\u001b[0;34m)\u001b[0m\u001b[0;34m)\u001b[0m\u001b[0;34m\u001b[0m\u001b[0;34m\u001b[0m\u001b[0m\n\u001b[0m",
            "\u001b[0;32m<__array_function__ internals>\u001b[0m in \u001b[0;36mdot\u001b[0;34m(*args, **kwargs)\u001b[0m\n",
            "\u001b[0;31mValueError\u001b[0m: shapes (3,5) and (4,3) not aligned: 5 (dim 1) != 4 (dim 0)"
          ]
        }
      ]
    },
    {
      "cell_type": "markdown",
      "metadata": {
        "id": "pxAyitCOH8CH"
      },
      "source": [
        "These results make sense in accordance with our rule. Multiplying a $3 \\times 5$ matrix on the right by a $4 \\times 3$ matrix results in an error while multiplying a $4 \\times 3$ matrix on the right by a $3 \\times 5$ matrix results in a $4 \\times 5$ matrix."
      ]
    },
    {
      "cell_type": "code",
      "metadata": {
        "colab": {
          "base_uri": "https://localhost:8080/"
        },
        "id": "smx7cP0aH8CH",
        "outputId": "c343f9d2-6909-4843-a9c2-24d46e5ef1c2"
      },
      "source": [
        "print (np.dot(B, A))"
      ],
      "execution_count": null,
      "outputs": [
        {
          "output_type": "stream",
          "text": [
            "[[ 34  44  54 128 124]\n",
            " [ 21  27  33  79  82]\n",
            " [ 82 101 120 227 216]\n",
            " [108 135 162 333 324]]\n"
          ],
          "name": "stdout"
        }
      ]
    },
    {
      "cell_type": "markdown",
      "metadata": {
        "id": "NEd5PCORH8CI"
      },
      "source": [
        "### Portfolio Variance\n",
        "\n",
        "Let's return to our portfolio example from before. We calculated the expected return of the portfolio, but how do we calculate the variance? We start by trying to evaluate the portfolio as a sum of each individual asset, scaled by it's weight.\n",
        "\n",
        "$$ VAR[P] = VAR[\\omega_1 S_1 + \\omega_2 S_2 + \\cdots + \\omega_N S_N] $$\n",
        "\n",
        "Where $S_0, \\cdots, S_N$ are the assets contained within our universe. If all of our assets were independent of each other, we could simply evaluate this as\n",
        "\n",
        "$$ VAR[P] = VAR[\\omega_1 S_1] + VAR[\\omega_2 S_2] + \\cdots + VAR[\\omega_N S_N] = \\omega_1^2\\sigma_1^2 + \\omega_2^2\\sigma_2^2 + \\cdots + \\omega_N^2\\sigma_N^2 $$\n",
        "\n",
        "However, all of our assets depend on each other by their construction. They are all in some way related to our base asset and therefore each other. We thus have to calculate the variance of the portfolio by including the individual pairwise covariances of each asset. Our formula for the variance of the portfolio:\n",
        "\n",
        "$$ VAR[P] = \\sigma_P^2 = \\sum_i \\omega_i^2\\sigma_i^2 + \\sum_i\\sum_{i\\neq j} \\omega_i\\omega_j\\sigma_i\\sigma_j\\rho_{i, j}, \\ i, j \\in \\lbrace 1, 2, \\cdots, N \\rbrace $$\n",
        "\n",
        "Where $\\rho_{i,j}$ is the correlation between $S_i$ and $S_j$, $\\rho_{i, j} = \\frac{COV[S_i, S_j]}{\\sigma_i\\sigma_j}$. This seems exceedingly complicated, but we can easily handle all of this using NumPy arrays. First, we calculate the covariance matrix that relates all the individual stocks in our universe."
      ]
    },
    {
      "cell_type": "code",
      "metadata": {
        "colab": {
          "base_uri": "https://localhost:8080/"
        },
        "id": "emFzdo_8H8CJ",
        "outputId": "b5b56c11-017d-4cae-ca0e-c1117e672797"
      },
      "source": [
        "cov_mat = np.cov(returns)\n",
        "print (cov_mat)"
      ],
      "execution_count": null,
      "outputs": [
        {
          "output_type": "stream",
          "text": [
            "[[0.00079877 0.00081514 0.00075908 0.0009004  0.00069452 0.00079973\n",
            "  0.00087883 0.00075407 0.00082275 0.00074046]\n",
            " [0.00081514 0.00115656 0.00080108 0.00090677 0.00072152 0.00084239\n",
            "  0.00086762 0.00085019 0.00082641 0.00073935]\n",
            " [0.00075908 0.00080108 0.00113388 0.00085363 0.00064725 0.00075539\n",
            "  0.00085809 0.00076412 0.00078384 0.00070916]\n",
            " [0.0009004  0.00090677 0.00085363 0.00135682 0.00072656 0.00088166\n",
            "  0.00095267 0.00083555 0.00089679 0.00082633]\n",
            " [0.00069452 0.00072152 0.00064725 0.00072656 0.00101897 0.0006037\n",
            "  0.0007413  0.0006892  0.00071266 0.00070301]\n",
            " [0.00079973 0.00084239 0.00075539 0.00088166 0.0006037  0.00121167\n",
            "  0.00089068 0.00073152 0.00074366 0.00074898]\n",
            " [0.00087883 0.00086762 0.00085809 0.00095267 0.0007413  0.00089068\n",
            "  0.00137314 0.00075873 0.00091254 0.00084462]\n",
            " [0.00075407 0.00085019 0.00076412 0.00083555 0.0006892  0.00073152\n",
            "  0.00075873 0.00107159 0.00072631 0.00074188]\n",
            " [0.00082275 0.00082641 0.00078384 0.00089679 0.00071266 0.00074366\n",
            "  0.00091254 0.00072631 0.00118816 0.00071718]\n",
            " [0.00074046 0.00073935 0.00070916 0.00082633 0.00070301 0.00074898\n",
            "  0.00084462 0.00074188 0.00071718 0.0010795 ]]\n"
          ],
          "name": "stdout"
        }
      ]
    },
    {
      "cell_type": "markdown",
      "metadata": {
        "id": "7Qb3Iq3bH8CK"
      },
      "source": [
        "This array is not formatted particularly nicely, but a covariance matrix is a very important concept. The covariance matrix is of the form:\n",
        "\n",
        "$$ \\left[\\begin{matrix}\n",
        "VAR[S_1] & COV[S_1, S_2] & \\cdots & COV[S_1, S_N] \\\\\n",
        "COV[S_2, S_1] & VAR[S_2] & \\cdots & COV[S_2, S_N] \\\\\n",
        "\\vdots & \\vdots & \\ddots & \\vdots \\\\\n",
        "COV[S_N, S_1] & COV[S_N, S_2] & \\cdots & VAR[S_N]\n",
        "\\end{matrix}\\right] $$\n",
        "\n",
        "So each diagonal entry is the variance of that asset at that index and each off-diagonal holds the covariance of two assets indexed by the column and row number. What is important is that once we have the covariance matrix we are able to do some very quick linear algebra to calculate the variance of the overall portfolio. We can represent the variance of the portfolio in array form as:\n",
        "\n",
        "$$ \\sigma_p^2 = \\omega \\ C \\ \\omega^\\intercal$$\n",
        "\n",
        "Where $C$ is the covariance matrix of all the assets and $\\omega$ is the array containing the weights of each individual asset. The superscript $\\intercal$ on the second $\\omega$ listed above denotes the **transpose** of $\\omega$. For a reference on the evaluation of the variance of a portfolio as a matrix equation, please see the Wikipedia article on [modern portfolio theory](https://en.wikipedia.org/wiki/Modern_portfolio_theory).\n",
        "\n",
        "The transpose of an array is what you get when you switch the rows and columns of an array. This has the effect of reflecting an array across what you might imagine as a diagonal. For example, take our array $A$ from before:"
      ]
    },
    {
      "cell_type": "code",
      "metadata": {
        "colab": {
          "base_uri": "https://localhost:8080/"
        },
        "id": "GQZdFhsYH8CL",
        "outputId": "4fdb33ec-8508-4421-9c7b-d3bd3d98195c"
      },
      "source": [
        "print (A)"
      ],
      "execution_count": null,
      "outputs": [
        {
          "output_type": "stream",
          "text": [
            "[[ 1  2  3 12  6]\n",
            " [ 4  5  6 15 20]\n",
            " [ 7  8  9 10 10]]\n"
          ],
          "name": "stdout"
        }
      ]
    },
    {
      "cell_type": "markdown",
      "metadata": {
        "id": "GDuRNUyvH8CL"
      },
      "source": [
        "The transpose looks like a mirror image of the same array."
      ]
    },
    {
      "cell_type": "code",
      "metadata": {
        "colab": {
          "base_uri": "https://localhost:8080/"
        },
        "id": "E-_PLREAH8CM",
        "outputId": "c6a16d9b-fbac-4527-fd98-05fa7be89ec5"
      },
      "source": [
        "print (np.transpose(A))"
      ],
      "execution_count": null,
      "outputs": [
        {
          "output_type": "stream",
          "text": [
            "[[ 1  4  7]\n",
            " [ 2  5  8]\n",
            " [ 3  6  9]\n",
            " [12 15 10]\n",
            " [ 6 20 10]]\n"
          ],
          "name": "stdout"
        }
      ]
    },
    {
      "cell_type": "markdown",
      "metadata": {
        "id": "QV1yPK9CH8CM"
      },
      "source": [
        "But $\\omega$ here is a 1-dimensional array, a vector! It makes perfect to take the transpose of $A$, a $3 \\times 5$ array, as the output will be a $5 \\times 3$ array, but a 1-dimensional array is not quite as intuitive. A typical 1-dimensional array can be thought of as a $1 \\times n$ horizontal vector. Thus, taking the tranpose of this array essentially means changing it into a $n \\times 1$ vertical vector. This makes sense because 1-dimensional arrays are still arrays and any multiplication done between 1-dimensional and higher dimensional arrays must keep in line with our dimensionality issue of matrix multiplication.\n",
        "\n",
        "To make a long story short, we think of $\\omega$ as $1 \\times N$ since we have $N$ securities. This makes it so that $\\omega^\\intercal$ is $N \\times 1$. Again, our covariance matrix is $N \\times N$. So the overall multiplication works out like so, in informal terms:\n",
        "\n",
        "$$ \\text{Dimensions}(\\sigma_p^2) = \\text{Dimensions}(\\omega C \\omega^\\intercal) = (1 \\times N)\\cdot (N \\times N)\\cdot (N \\times 1) = (1 \\times 1)$$\n",
        "\n",
        "Multiplying the covariance matrix on the left by the plain horizontal vector and on the right by that vector's transpose results in the calculation of a single scalar ($1 \\times 1$) value, our portfolio's variance.\n",
        "\n",
        "So knowing this, let's proceed and calculate the portfolio variance! We can easily calculate the product of these arrays by using `dot()` for matrix multiplication, though this time we have to do it twice."
      ]
    },
    {
      "cell_type": "code",
      "metadata": {
        "scrolled": false,
        "colab": {
          "base_uri": "https://localhost:8080/"
        },
        "id": "O2o2E4OPH8CN",
        "outputId": "80b3b24c-083a-4b01-9b11-35aa8c03be5e"
      },
      "source": [
        "# Calculating the portfolio volatility\n",
        "var_p = np.dot(np.dot(weights, cov_mat), weights.T)\n",
        "vol_p = np.sqrt(var_p)\n",
        "print (\"Portfolio volatility: \", vol_p)"
      ],
      "execution_count": null,
      "outputs": [
        {
          "output_type": "stream",
          "text": [
            "Portfolio volatility:  0.029273314768625103\n"
          ],
          "name": "stdout"
        }
      ]
    },
    {
      "cell_type": "markdown",
      "metadata": {
        "id": "1386WiThH8CN"
      },
      "source": [
        "To confirm this calculation, let's simply evaluate the volatility of the portfolio using only NumPy functions."
      ]
    },
    {
      "cell_type": "code",
      "metadata": {
        "colab": {
          "base_uri": "https://localhost:8080/"
        },
        "id": "SdIKe4jfH8CO",
        "outputId": "cd014125-819c-4ee8-82f4-448108a0e935"
      },
      "source": [
        "# Confirming calculation\n",
        "vol_p_alt = np.sqrt(np.var(np.dot(weights, returns), ddof=1))\n",
        "print (\"Portfolio volatility: \", vol_p_alt)"
      ],
      "execution_count": null,
      "outputs": [
        {
          "output_type": "stream",
          "text": [
            "Portfolio volatility:  0.029273314768625092\n"
          ],
          "name": "stdout"
        }
      ]
    },
    {
      "cell_type": "markdown",
      "metadata": {
        "id": "AKqNATUuH8CO"
      },
      "source": [
        "The `ddof` parameter is a simple integer input that tells the function the number of degrees of freedom to take into account. This is a more statistical concept, but what this tells us that our matrix calculation is correct!\n",
        "\n",
        "A lot of this might not make sense at first glance. It helps to go back and forth between the theory and the code representations until you have a better grasp of the mathematics involved. It is definitely not necessary to be an expert on linear algebra and on matrix operations, but linear algebra can help to streamline the process of working with large amounts of data. For further reading on NumPy, check out the [documentation](https://docs.scipy.org/doc/numpy/user/index.html)."
      ]
    },
    {
      "cell_type": "markdown",
      "metadata": {
        "id": "GFuyhbQ6H8CO"
      },
      "source": [
        "*This presentation is for informational purposes only and does not constitute an offer to sell, a solicitation to buy, or a recommendation for any security; nor does it constitute an offer to provide investment advisory or other services by Quantopian, Inc. (\"Quantopian\"). Nothing contained herein constitutes investment advice or offers any opinion with respect to the suitability of any security, and any views expressed herein should not be taken as advice to buy, sell, or hold any security or as an endorsement of any security or company.  In preparing the information contained herein, Quantopian, Inc. has not taken into account the investment needs, objectives, and financial circumstances of any particular investor. Any views expressed and data illustrated herein were prepared based upon information, believed to be reliable, available to Quantopian, Inc. at the time of publication. Quantopian makes no guarantees as to their accuracy or completeness. All information is subject to change and may quickly become unreliable for various reasons, including changes in market conditions or economic circumstances.*"
      ]
    }
  ]
}